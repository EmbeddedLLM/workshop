{
 "cells": [
  {
   "cell_type": "markdown",
   "id": "fc67605d-db38-4c2e-a862-240e825f1e1d",
   "metadata": {},
   "source": [
    "<h1><b></v>A practitioner's guide to Triton</b></h1>"
   ]
  },
  {
   "cell_type": "markdown",
   "id": "d5472f00-d80e-4099-a6e0-0acd8cbee75e",
   "metadata": {},
   "source": [
    "By UmerHA (https://x.com/UmerHAdil // https://github.com/UmerHA/), for the cuda-mode group ❤️ May our brrrr level reach over 9000."
   ]
  },
  {
   "cell_type": "code",
   "execution_count": null,
   "id": "8a15741b-fc97-40d6-b2d3-9e912b5cfa12",
   "metadata": {},
   "outputs": [],
   "source": []
  },
  {
   "cell_type": "markdown",
   "id": "19525480-2ca8-45a6-91c4-34e97f59198e",
   "metadata": {},
   "source": [
    "# Why & when to use Triton"
   ]
  },
  {
   "cell_type": "markdown",
   "id": "a9d86769-062a-42b6-b8cf-31186b597341",
   "metadata": {},
   "source": [
    "**What is Triton**"
   ]
  },
  {
   "cell_type": "markdown",
   "id": "cd02a8c5-8499-449f-bd08-6e0699a4034b",
   "metadata": {},
   "source": [
    "In short: Triton is a language to program GPUs more conventiently. You write Python-ish code, which is then compiled into ptx code (the same thing cuda code is compiled into).\n",
    "\n",
    "During the compilation, the Triton compiler tries to use clever tricks to rearrange the parts of your program (without changing the program's meaning!) to make it run faster. "
   ]
  },
  {
   "cell_type": "markdown",
   "id": "0bbba9bb-e298-4ac3-b277-f72de9bd3a13",
   "metadata": {},
   "source": [
    "**Triton vs Cuda**"
   ]
  },
  {
   "cell_type": "markdown",
   "id": "60575d99-b4af-4383-b94c-d7dc2ac1189b",
   "metadata": {},
   "source": [
    "<img src='images/1_cuda_v_triton.png'>"
   ]
  },
  {
   "cell_type": "markdown",
   "id": "6778f071-9dac-408b-980b-860b82b32ba2",
   "metadata": {},
   "source": [
    "source: https://zhuanlan.zhihu.com/p/672086654"
   ]
  },
  {
   "cell_type": "markdown",
   "id": "58e290a1-7bdd-407d-a4d6-c3f34f1309a9",
   "metadata": {},
   "source": [
    "CUDA is a high-end tool with many settings for the pros.\n",
    "- full control over everything, so absolute max performance possible\n",
    "- harder to get decent performance\n",
    "- way more tedious to write and debug\n",
    "- more complicated, so harder to learn\n",
    "\n",
    "\n",
    "Triton is a  very good tool for most users\n",
    "- you can't control everything, as some things are left to automatic optimization; so you probably won't get absolute max performance\n",
    "- way easier to get good performance\n",
    "- way easier to write and debug\n",
    "- easier to learn, as it has a Python-like syntax"
   ]
  },
  {
   "cell_type": "code",
   "execution_count": null,
   "id": "835c1a1d-ff40-4139-966f-293a87d5599b",
   "metadata": {},
   "outputs": [],
   "source": []
  },
  {
   "cell_type": "markdown",
   "id": "402ad245-5bc2-40ae-a006-a9cdfa006491",
   "metadata": {},
   "source": [
    "**Triton vs torch.compile**"
   ]
  },
  {
   "cell_type": "markdown",
   "id": "aa3ca0c7-dad6-443a-a447-d867b3385e66",
   "metadata": {},
   "source": [
    "`torch.compile` makes your model faster by trying to use existing kernels more effectively and creating simple new kernels. This may make your model fast enough. If not, you can decide to invest time to write faster Triton kernels.\n",
    "\n",
    "(These simple new kernels that `torch.compile` creates are actually Triton kernels. So they are a good starting point for your custom kernels. See [Mark Saroufim](https://twitter.com/marksaroufim)'s [lecture 1 of cuda mode](https://www.youtube.com/watch?v=LuhJEEJQgUM&t=2200s) for how.)"
   ]
  },
  {
   "cell_type": "code",
   "execution_count": null,
   "id": "a9f100d3-061f-457a-8793-d28ac568bbe0",
   "metadata": {},
   "outputs": [],
   "source": []
  },
  {
   "cell_type": "markdown",
   "id": "20ba90bb-c2f5-4f77-9f0e-8382f426876a",
   "metadata": {},
   "source": [
    "**When to use Triton**"
   ]
  },
  {
   "cell_type": "markdown",
   "id": "e9bcf909-ad45-49e9-a9b0-8cc834d5e860",
   "metadata": {},
   "source": [
    "You start with your AI model.\n",
    "1. If it's not fast enough, `torch.compile` it.\n",
    "2. If it's not fast enough, check if you can rewrite your code to make it more suitable for `torch.compile`.\n",
    "3. If it's not fast enough, check which parts are slow and write custom Triton kernel(s) for those.\n",
    "4. If it's not fast enough, check which parts are slow and write custom CUDA kernel(s) for those.\n",
    "\n",
    "(In the unlikely case you know beforehand tyou need absolute max performance, you can decide to directly start with CUDA.) "
   ]
  },
  {
   "cell_type": "code",
   "execution_count": null,
   "id": "b1fc95f7-ca8e-4baf-b8db-03f610150681",
   "metadata": {},
   "outputs": [],
   "source": []
  },
  {
   "cell_type": "markdown",
   "id": "8608bbec-cc24-40c0-8bbf-3a2211287060",
   "metadata": {},
   "source": [
    "**A note on rough edges**"
   ]
  },
  {
   "cell_type": "markdown",
   "id": "d174fa93-67e5-44fc-a5a1-aafe5241c0da",
   "metadata": {},
   "source": [
    "As Triton is a newer project, people have found it to have a few rough edges. I have noted all rough edges I encountered with the comment \"Weirdness: <description of what's weird to me>\".\n",
    "\n",
    "I expect it to get a lot more polished over time."
   ]
  },
  {
   "cell_type": "code",
   "execution_count": null,
   "id": "519c719c-212a-48f6-bcc9-6c344b5d85e1",
   "metadata": {},
   "outputs": [],
   "source": []
  },
  {
   "cell_type": "markdown",
   "id": "10cd2baf-5e10-4143-89a9-ae62cdef79ca",
   "metadata": {},
   "source": [
    "# How to write Triton kernels"
   ]
  },
  {
   "cell_type": "markdown",
   "id": "0b39d927-a060-43b0-b40b-7c0fb1c0cf3b",
   "metadata": {},
   "source": [
    "Unlike with CUDA, we can debug Triton kernels just like any CPU program, if we set the environment variable `TRITON_INTERPRET = 1`. Then Triton runs on the CPU but simulates that it runs on the GPU.\n",
    "\n",
    "I recommend writing all programs in the simulator first, and checking for correctness. If correct, then you can make it fast.\n",
    "\n",
    "Below are some utility functions for debugging:\n",
    "- `check_tensors_gpu_ready`: (i) assert all tensors are contiguous in memory and (ii) only if not simulating, assert all tensors are on gpu\n",
    "- `breakpoint_if`: set a breakpoint, depending on conditions on pids\n",
    "- `print_if` print sth, depending on conditions on pids"
   ]
  },
  {
   "cell_type": "code",
   "execution_count": 1,
   "id": "dc39fdc4-3120-4987-93e3-0eb0ab4b956c",
   "metadata": {},
   "outputs": [],
   "source": [
    "import os\n",
    "from IPython.core.debugger import set_trace\n",
    "\n",
    "os.environ['TRITON_INTERPRET'] = '1' # needs to be set *before* triton is imported\n",
    "\n",
    "def check_tensors_gpu_ready(*tensors):\n",
    "    for t in tensors:\n",
    "        assert t.is_contiguous, \"A tensor is not contiguous\"\n",
    "        if not os.environ.get('TRITON_INTERPRET') == '1': assert t.is_cuda, \"A tensor is not on cuda\"\n",
    "\n",
    "def test_pid_conds(conds, pid_0=[0], pid_1=[0], pid_2=[0]):\n",
    "    '''Test if condition on pids are fulfilled\n",
    "    E.g.:\n",
    "        '=0'  checks that pid_0 == 0\n",
    "        ',>1' checks that pid_1 > 1\n",
    "        '>1,=0' checks that pid_0 > 1 and pid_1 == 0\n",
    "    '''\n",
    "    pids = pid_0[0], pid_1[0], pid_2[0]\n",
    "    conds = conds.replace(' ','').split(',')\n",
    "    for i, (cond, pid) in enumerate(zip(conds, pids)):\n",
    "        if cond=='': continue\n",
    "        op, threshold = cond[0], int(cond[1:])\n",
    "        if op not in ['<','>','>=','<=','=', '!=']: raise ValueError(f\"Rules may only use these ops: '<','>','>=','<=','=', '!='. Invalid rule: '{condition}'.\")\n",
    "        op = '==' if op == '=' else op\n",
    "        if not eval(f'{pid} {op} {threshold}'): return False\n",
    "    return True\n",
    "\n",
    "assert test_pid_conds('')\n",
    "assert test_pid_conds('>0', [1], [1])\n",
    "assert not test_pid_conds('>0', [0], [1])\n",
    "assert test_pid_conds('=0,=1', [0], [1], [0])\n",
    "\n",
    "def breakpoint_if(conds, pid_0=[0], pid_1=[0], pid_2=[0]):\n",
    "    '''Stop kernel, if any condition of pids is fulfilled'''\n",
    "    if test_pid_conds(conds, pid_0, pid_1, pid_2): set_trace()\n",
    "\n",
    "def print_if(txt, conds, pid_0=[0], pid_1=[0], pid_2=[0]):\n",
    "    '''Print txt, if any condition of pids is fulfilled'''\n",
    "    if test_pid_conds(conds, pid_0, pid_1, pid_2): print(txt)\n",
    "\n",
    "def cdiv(a,b): return (a + b - 1) // b\n",
    "assert cdiv(10,2)==5\n",
    "assert cdiv(10,3)==4"
   ]
  },
  {
   "cell_type": "code",
   "execution_count": 2,
   "id": "48a65c47-a101-4cf0-93c9-8f7c741183f2",
   "metadata": {},
   "outputs": [],
   "source": [
    "import torch\n",
    "import triton\n",
    "import triton.language as tl"
   ]
  },
  {
   "cell_type": "markdown",
   "id": "128f01d2-e153-424e-8487-43c7b53d167b",
   "metadata": {},
   "source": [
    "# Programming model"
   ]
  },
  {
   "cell_type": "markdown",
   "id": "34892f8a-06fb-4556-9e9c-997f878c0ee2",
   "metadata": {},
   "source": [
    "With CUDA, we decompose the computation in 2 levels: First into blocks, then each block further into threads. All threads in a block run on the same SM and share the same Shared Memory. And each thread computes on **scalars**.\n",
    "\n",
    "In Triton, we decompose the computation only in 1 level: Into blocks. There is no further decomposition into threads. **Triton requires us to perform operations on vectors**. Also, we don't need to and are not able to manage the shared memory. Triton does that automatically.\n",
    "\n",
    "Example:\n",
    "\n",
    "Let's say we want to add `x` and `y`, which are vectors of size 8, and save the output into `z` (also size 8). Let's use blocks of size 4, so we have `8 / 4 = 2` blocks.\n",
    "- Cuda runs 2 blocks, each with 4 threads. Each of the 8 threads computes a single position, e.g. `z[0] = x[0] + y[0]`\n",
    "- Triton also runs 2 blocks, which each performs vectorized addition. The vector size is the block size, which is 4. E.g. `z[0:3] = x[0:3] + y[0:3]`\n"
   ]
  },
  {
   "cell_type": "markdown",
   "id": "9c6dc139-7d06-4558-88a3-10b19b2e5fbf",
   "metadata": {},
   "source": [
    "**All** operations in triton kernels are vectorized: Loading data, operating on data, storing data, and creating masks."
   ]
  },
  {
   "cell_type": "markdown",
   "id": "304ed80b-700f-4f79-b44d-228e6a11fc48",
   "metadata": {},
   "source": [
    "Let's think about another simple example:\n",
    "\n",
    "Again, we want to add `x` and `y`, which are now vectors of size **6**, and save the output into `z` (also size 6). Let's use blocks of size 4, so we have `cdiv(6, 4) = 2` blocks."
   ]
  },
  {
   "cell_type": "code",
   "execution_count": 3,
   "id": "f05dde67-6374-4570-ad85-f9d8fb362ced",
   "metadata": {},
   "outputs": [
    {
     "data": {
      "text/plain": [
       "(tensor([1, 2, 3, 4, 5, 6]),\n",
       " tensor([0, 1, 0, 1, 0, 1]),\n",
       " tensor([1, 3, 3, 5, 5, 7]))"
      ]
     },
     "execution_count": 3,
     "metadata": {},
     "output_type": "execute_result"
    }
   ],
   "source": [
    "x = torch.tensor([1,2,3,4,5,6])\n",
    "y = torch.tensor([0,1,0,1,0,1])\n",
    "\n",
    "x, y, x+y"
   ]
  },
  {
   "cell_type": "markdown",
   "id": "6be2aec9-6b7f-4647-b223-c7c0080c5275",
   "metadata": {},
   "source": [
    "The cuda kernel would be the C-equivalent of this:"
   ]
  },
  {
   "cell_type": "code",
   "execution_count": 4,
   "id": "6a4c3f94-ed61-4c3e-bf65-82fb0b971751",
   "metadata": {},
   "outputs": [],
   "source": [
    "# x,y = input tensors, z = output tensors, n = size of x, bs = block size\n",
    "def add_cuda_k(x, y, z, n, bs):\n",
    "    # locate which part of the overall computation this specific kernel is doing\n",
    "    block_id = ... # in our example: one of [0,1] \n",
    "    thread_id = ... # in our example: one of [0,1,2,3] \n",
    "\n",
    "    # identify the location of the data this specific kernel needs\n",
    "    offs = block_id * bs + thread_id\n",
    "    \n",
    "    # guard clause, to make sure we're not going out of bounds\n",
    "    if offs < n:\n",
    "\n",
    "        # read data\n",
    "        x_value = x[offs]\n",
    "        y_value = y[offs]\n",
    "        \n",
    "        # do operation\n",
    "        z_value = x_value + y_value\n",
    "        \n",
    "        # write data\n",
    "        z[offs] = z_value\n",
    "\n",
    "    # Important: offs, x_value, y_value, x_value are all scalars!\n",
    "    # The guard condition kind of is also a scalar, as it check one condition on one value."
   ]
  },
  {
   "cell_type": "markdown",
   "id": "d6ce59e2-9bac-47fd-a561-7178ceb3cba4",
   "metadata": {},
   "source": [
    "For illustration, here are the variables for every kernel:"
   ]
  },
  {
   "cell_type": "markdown",
   "id": "5abcb553-e20a-463c-a9dc-24f95364129b",
   "metadata": {},
   "source": [
    "<img src='images/2_cuda_variables.png'>"
   ]
  },
  {
   "cell_type": "markdown",
   "id": "f6b22698-bace-49c6-81ab-0d4258438fda",
   "metadata": {},
   "source": [
    "Let's now look at the corresponding triton kernel, which roughly looks like this:"
   ]
  },
  {
   "cell_type": "code",
   "execution_count": 5,
   "id": "152b589d-3e09-416f-8215-f5b3ca66d034",
   "metadata": {},
   "outputs": [],
   "source": [
    "# Note: this is for illustration, and not quite syntactically correct. See further below for correct triton syntax\n",
    "\n",
    "def add_triton_k(x, y, z, n, bs):\n",
    "    # locate which part of the overall computation this specific kernel is doing\n",
    "    block_id = tl.program_id(0)  # in our example: one of [0,1] \n",
    "    \n",
    "    # identify the location of the data this specific kernel needs\n",
    "    offs = block_id * bs + tl.arange(0, bs) # <- this is a vector!\n",
    "    \n",
    "    # the guard clause becomes a mask, which is a vector of bools\n",
    "    mask = offs < n # <- this is a vector of bools!\n",
    "    \n",
    "    # read data\n",
    "    x_values = x[offs] # <- a vector is read!\n",
    "    y_values = y[offs] # <- a vector is read!\n",
    "    \n",
    "    # do operation\n",
    "    z_value = x_value + y_value  # <- vectors are added!\n",
    "    \n",
    "    # write data\n",
    "    z[offs] = z_value  # <- a vector is written!"
   ]
  },
  {
   "cell_type": "markdown",
   "id": "f4754391-348d-4ee2-b3f8-4f76c6e03e87",
   "metadata": {},
   "source": [
    "Again, for illustration, here are the variables for every kernel:"
   ]
  },
  {
   "cell_type": "markdown",
   "id": "7823c2c2-957f-4b15-a791-bc741a433fb1",
   "metadata": {},
   "source": [
    "<img src='images/3_triton_variables.png'>"
   ]
  },
  {
   "cell_type": "code",
   "execution_count": null,
   "id": "241c1e1a-e74a-4798-88fe-ebd3648fd66e",
   "metadata": {},
   "outputs": [],
   "source": []
  },
  {
   "cell_type": "markdown",
   "id": "34101046-4732-42de-8d85-619603e98a85",
   "metadata": {},
   "source": [
    "Note on jargon: In triton lingo, each kernel (which processes a block) is called a \"program\". I.e., our example above runs 2 programs. Therefore, \"block_id\" is often called \"pid\" (short for \"program id\"), but it's the same."
   ]
  },
  {
   "cell_type": "code",
   "execution_count": null,
   "id": "09fca448-ff95-4b9e-acbd-ce5445790013",
   "metadata": {},
   "outputs": [],
   "source": []
  },
  {
   "cell_type": "markdown",
   "id": "5ccc846d-e3e5-4ef6-8fb7-ed7aa27b3d53",
   "metadata": {},
   "source": [
    "# Example 1: Copying a tensor"
   ]
  },
  {
   "cell_type": "markdown",
   "id": "aec9dddb-37a4-4bda-b24f-05382b1e982a",
   "metadata": {},
   "source": [
    "Let's looks at some examples. To keeps things simple, we'll use very small block sizes."
   ]
  },
  {
   "cell_type": "markdown",
   "id": "eeb5d1c3-fb01-413b-ad4d-372ec834cd9b",
   "metadata": {},
   "source": [
    "Goal: Given a tensor `x` of shape (n), copy it into another tensor `z`."
   ]
  },
  {
   "cell_type": "code",
   "execution_count": 6,
   "id": "a7789ca2-1246-45bb-adec-285e0efe26e6",
   "metadata": {},
   "outputs": [],
   "source": [
    "# # This is a normal python function, which launches the triton kernels\n",
    "def copy(x, bs, kernel_fn):\n",
    "    z = torch.zeros_like(x)\n",
    "    check_tensors_gpu_ready(x, z)\n",
    "    n = x.numel()\n",
    "    n_blocks = cdiv(n, bs)\n",
    "    grid = (n_blocks,)  # how many blocks do we have? can be 1d/2d/3d-tuple or function returning 1d/2d/3d-tuple\n",
    "\n",
    "    # launch grid!\n",
    "    # - kernel_fn is the triton kernel, which we write below\n",
    "    # - grid is the grid we constructed above\n",
    "    # - x,z,n,bs are paramters that are passed into each kernel function\n",
    "    kernel_fn[grid](x,z,n,bs)\n",
    "\n",
    "    return z    "
   ]
  },
  {
   "cell_type": "markdown",
   "id": "b2ff0265-9f65-47fc-a2be-a5c4b841f253",
   "metadata": {},
   "source": [
    "**Note:** For educational purposes, the kernel below has a logic bug (but the syntax is correct). Can you spot it?"
   ]
  },
  {
   "cell_type": "code",
   "execution_count": 7,
   "id": "ee6e7c2a-1af8-40bd-9824-999836c86339",
   "metadata": {},
   "outputs": [],
   "source": [
    "# # This is the triton kernel:\n",
    "\n",
    "# The triton.jit decorator takes a python function and turns it into a triton kernel, which is run on the GPU.\n",
    "# Inside this function only a subset of all python ops are allowed.\n",
    "# E.g., when NOT simulating, we can't print or use breakpoints, as these don't exist on the GPU. \n",
    "@triton.jit\n",
    "# When we pass torch tensors, they are automatically converted into a pointer to their first value\n",
    "# E.g., above we passed x, but here we receive x_ptr\n",
    "def copy_k(x_ptr, z_ptr, n, bs: tl.constexpr):\n",
    "    pid = tl.program_id(0)\n",
    "    offs = tl.arange(0, bs)  # compute the offsets from the pid \n",
    "    mask = offs < n\n",
    "    x = tl.load(x_ptr + offs, mask) # load a vector of values, think of `x_ptr + offs` as `x_ptr[offs]`\n",
    "    tl.store(z_ptr + offs, x, mask) # store a vector of values\n",
    "\n",
    "    print_if(f'pid = {pid} | offs = {offs}, mask = {mask}, x = {x}', '')\n",
    "\n",
    "    # Question: What is wrong with this kernel?"
   ]
  },
  {
   "cell_type": "code",
   "execution_count": 8,
   "id": "20b92432-7c71-4dc0-be91-14ad7d6fb913",
   "metadata": {},
   "outputs": [
    {
     "name": "stdout",
     "output_type": "stream",
     "text": [
      "pid = [0] | offs = [0 1], mask = [ True  True], x = [1 2]\n",
      "pid = [1] | offs = [0 1], mask = [ True  True], x = [1 2]\n",
      "pid = [2] | offs = [0 1], mask = [ True  True], x = [1 2]\n"
     ]
    }
   ],
   "source": [
    "z = copy(x, bs=2, kernel_fn=copy_k)"
   ]
  },
  {
   "cell_type": "code",
   "execution_count": 9,
   "id": "0cc43e72-1691-4b2d-8299-b3a915f598d1",
   "metadata": {},
   "outputs": [
    {
     "data": {
      "text/plain": [
       "tensor([1, 2, 0, 0, 0, 0])"
      ]
     },
     "execution_count": 9,
     "metadata": {},
     "output_type": "execute_result"
    }
   ],
   "source": [
    "z"
   ]
  },
  {
   "cell_type": "code",
   "execution_count": null,
   "id": "6b6318e2-8f25-48e9-8f83-a2f08eea7c48",
   "metadata": {},
   "outputs": [],
   "source": []
  },
  {
   "cell_type": "markdown",
   "id": "26fbbe80-0bad-4520-8287-b0aa07c4b6db",
   "metadata": {},
   "source": [
    "We were not shifting the offets correcltly. We always used offsets = [0,1], but they should change with the pid."
   ]
  },
  {
   "cell_type": "code",
   "execution_count": 11,
   "id": "59d65e42-3c41-40f9-b10b-c8dbdb060577",
   "metadata": {},
   "outputs": [],
   "source": [
    "@triton.jit\n",
    "def copy_k(x_ptr, z_ptr, n, bs: tl.constexpr):\n",
    "    pid = tl.program_id(0)\n",
    "    offs = pid * n + tl.arange(0, bs)\n",
    "    mask = offs < n\n",
    "    x = tl.load(x_ptr + offs, mask)\n",
    "    tl.store(z_ptr + offs, x, mask)\n",
    "    print_if(f'pid = {pid} | offs = {offs}, mask = {mask}, x = {x}', '')"
   ]
  },
  {
   "cell_type": "code",
   "execution_count": 12,
   "id": "23fa8fe8-4f0d-4346-b2bd-ed2261ca0578",
   "metadata": {},
   "outputs": [
    {
     "name": "stdout",
     "output_type": "stream",
     "text": [
      "pid = [0] | offs = [0 1], mask = [ True  True], x = [1 2]\n",
      "pid = [1] | offs = [6 7], mask = [False False], x = [1 1]\n",
      "pid = [2] | offs = [12 13], mask = [False False], x = [1 1]\n"
     ]
    }
   ],
   "source": [
    "z = copy(x, bs=2, kernel_fn=copy_k)"
   ]
  },
  {
   "cell_type": "markdown",
   "id": "9ae5ad1a-14ba-44f2-85a5-eb3e3beba599",
   "metadata": {},
   "source": [
    "Not quite correct. We added `pid * n`, but want to add `pid * bs`"
   ]
  },
  {
   "cell_type": "code",
   "execution_count": 14,
   "id": "13676f86-af96-4d9b-b9bf-4c2787085436",
   "metadata": {},
   "outputs": [],
   "source": [
    "@triton.jit\n",
    "def copy_k(x_ptr, z_ptr, n, bs: tl.constexpr):\n",
    "    pid = tl.program_id(0)\n",
    "    offs = pid * bs + tl.arange(0, bs)\n",
    "    mask = offs < n\n",
    "    x = tl.load(x_ptr + offs, mask)\n",
    "    tl.store(z_ptr + offs, x, mask)\n",
    "    print_if(f'pid = {pid} | offs = {offs}, mask = {mask}, x = {x}', '')"
   ]
  },
  {
   "cell_type": "code",
   "execution_count": 15,
   "id": "679a5e06-1120-4d40-b6b2-a88a38ee4aa5",
   "metadata": {},
   "outputs": [
    {
     "name": "stdout",
     "output_type": "stream",
     "text": [
      "pid = [0] | offs = [0 1], mask = [ True  True], x = [1 2]\n",
      "pid = [1] | offs = [2 3], mask = [ True  True], x = [3 4]\n",
      "pid = [2] | offs = [4 5], mask = [ True  True], x = [5 6]\n"
     ]
    }
   ],
   "source": [
    "z = copy(x, bs=2, kernel_fn=copy_k)"
   ]
  },
  {
   "cell_type": "markdown",
   "id": "d2de6ae1-b75f-4c48-b3fd-c7165ef8593a",
   "metadata": {},
   "source": [
    "Yes!"
   ]
  },
  {
   "cell_type": "code",
   "execution_count": 16,
   "id": "72a218c8-d074-4dae-9b19-55fee1a1f629",
   "metadata": {},
   "outputs": [
    {
     "data": {
      "text/plain": [
       "(tensor([1, 2, 3, 4, 5, 6]), tensor([1, 2, 3, 4, 5, 6]))"
      ]
     },
     "execution_count": 16,
     "metadata": {},
     "output_type": "execute_result"
    }
   ],
   "source": [
    "x, z"
   ]
  },
  {
   "cell_type": "code",
   "execution_count": null,
   "id": "8421b1ca-fcc1-4202-8190-7870f9e12ca9",
   "metadata": {},
   "outputs": [],
   "source": []
  },
  {
   "cell_type": "markdown",
   "id": "debf9f02-368b-4842-8ea6-8973df1aa6f3",
   "metadata": {},
   "source": [
    "As we saw, writing GPU programs involves many indices, which we can easily mess up. So I highly recommend writing and debugging the kernel in simuation mode, and testing with tiny examples first!"
   ]
  },
  {
   "cell_type": "code",
   "execution_count": null,
   "id": "82ede28f-684e-477c-938a-0895a0bbcd92",
   "metadata": {},
   "outputs": [],
   "source": []
  },
  {
   "cell_type": "markdown",
   "id": "5adf0a27-e1ad-42a9-880b-d377c5ee22a0",
   "metadata": {},
   "source": [
    "# Example 2: Greyscaling an image"
   ]
  },
  {
   "cell_type": "markdown",
   "id": "3827f902-8435-4d70-9a1e-a8b6ef4a9c42",
   "metadata": {},
   "source": [
    "_Restart kernel here_"
   ]
  },
  {
   "cell_type": "markdown",
   "id": "99098119-6f8b-4419-852d-d4d9321286e4",
   "metadata": {},
   "source": [
    "In this example, we'll grayscale an image of a puppy. We'll see how we can work on 2d data.\n",
    "\n",
    "This works analogously for 3D data.\n",
    "\n",
    "We've adapted Jeremy Howard's example from this [colab](https://colab.research.google.com/drive/180uk6frvMBeT4tywhhYXmz3PJaCIA_uk?usp=sharing) / [youtube](https://www.youtube.com/watch?v=4sgKnKbR-WE&feature=youtu.be). So, h/t for the example and selection of puppy image."
   ]
  },
  {
   "cell_type": "markdown",
   "id": "e69f21e8-b1a7-4d28-b912-081bd79198c1",
   "metadata": {},
   "source": [
    "_Side note: Two weird things happen in this example, if we don't restart the kernel:_\n",
    "1. _torchvision can't be imported, probably due to a circular dependency. -> I currently don't know why, need to dig deeper._\n",
    "2. _the simulated triton kernel below fails, because a float can't be mutliplied to a uint vector -> Works on GPU w/o simulation, so seems to be a `TRITON_INTERPRET` bug._"
   ]
  },
  {
   "cell_type": "code",
   "execution_count": 1,
   "id": "9c959e8b-edc3-402d-a65a-9bff148d43ad",
   "metadata": {},
   "outputs": [],
   "source": [
    "import os\n",
    "\n",
    "import matplotlib.pyplot as plt\n",
    "from urllib.request import urlretrieve\n",
    "from pathlib import Path\n",
    "\n",
    "import torch\n",
    "from torch import tensor\n",
    "import torchvision as tv\n",
    "import torchvision.transforms.functional as tvf\n",
    "from torchvision import io\n",
    "\n",
    "import triton\n",
    "import triton.language as tl"
   ]
  },
  {
   "cell_type": "code",
   "execution_count": 2,
   "id": "4d086080-bc66-4651-8788-41b1614885a9",
   "metadata": {},
   "outputs": [],
   "source": [
    "def cdiv(a,b): return (a + b - 1) // b"
   ]
  },
  {
   "cell_type": "code",
   "execution_count": 3,
   "id": "dae436bd-41a8-4ddf-8b95-2ac7c0b38cf8",
   "metadata": {},
   "outputs": [],
   "source": [
    "url = 'https://upload.wikimedia.org/wikipedia/commons/thumb/4/43/Cute_dog.jpg/1600px-Cute_dog.jpg?20140729055059'"
   ]
  },
  {
   "cell_type": "code",
   "execution_count": 4,
   "id": "0b395337-83ce-4919-8afc-1dafe80420b8",
   "metadata": {},
   "outputs": [],
   "source": [
    "path_img = Path('puppy.jpg')\n",
    "if not path_img.exists(): urlretrieve(url, path_img)"
   ]
  },
  {
   "cell_type": "code",
   "execution_count": 5,
   "id": "245ce200-8062-4741-866e-c6e14059c4cc",
   "metadata": {},
   "outputs": [
    {
     "name": "stdout",
     "output_type": "stream",
     "text": [
      "torch.Size([3, 1066, 1600])\n"
     ]
    },
    {
     "data": {
      "text/plain": [
       "tensor([[[117, 119, 117, 113],\n",
       "         [119, 129, 129, 113],\n",
       "         [130, 126, 122, 115]],\n",
       "\n",
       "        [[ 83,  85,  85,  80],\n",
       "         [ 85,  97,  97,  82],\n",
       "         [ 98,  93,  89,  83]]], dtype=torch.uint8)"
      ]
     },
     "execution_count": 5,
     "metadata": {},
     "output_type": "execute_result"
    }
   ],
   "source": [
    "img = io.read_image('puppy.jpg')\n",
    "print(img.shape)\n",
    "img[:2,:3,:4]"
   ]
  },
  {
   "cell_type": "code",
   "execution_count": 6,
   "id": "ae20a094-84b9-4fb1-9ed2-f7dd5efa012d",
   "metadata": {},
   "outputs": [],
   "source": [
    "def show_img(x, figsize=(4,3), **kwargs):\n",
    "    plt.figure(figsize=figsize)\n",
    "    plt.axis('off')\n",
    "    if len(x.shape)==3: x = x.permute(1,2,0)  # CHW -> HWC\n",
    "    plt.imshow(x.cpu(), **kwargs)"
   ]
  },
  {
   "cell_type": "code",
   "execution_count": 7,
   "id": "d9a79414-e719-4312-89a1-0cf7ca737ca8",
   "metadata": {},
   "outputs": [
    {
     "data": {
      "text/plain": [
       "(3, 150, 225, 33750)"
      ]
     },
     "execution_count": 7,
     "metadata": {},
     "output_type": "execute_result"
    }
   ],
   "source": [
    "img = tvf.resize(img, 150, antialias=True)\n",
    "ch,h,w = img.shape\n",
    "ch,h,w,h*w"
   ]
  },
  {
   "cell_type": "code",
   "execution_count": 8,
   "id": "7ddffdb6-64a1-4556-9b35-2c73b37810a3",
   "metadata": {},
   "outputs": [
    {
     "data": {
      "image/png": "[encoded data removed]",
      "text/plain": [
       "<Figure size 400x300 with 1 Axes>"
      ]
     },
     "metadata": {},
     "output_type": "display_data"
    }
   ],
   "source": [
    "show_img(img)"
   ]
  },
  {
   "cell_type": "markdown",
   "id": "4ed51086-6515-4bdf-a666-1cc003df47c6",
   "metadata": {},
   "source": [
    "To work with 2d data, we'll build 2d offsets and masks. Here's an illustration how it works, e.g. for an `4x7` matrix and block sizes of `2` for each dimensions."
   ]
  },
  {
   "cell_type": "markdown",
   "id": "0faedb4a-cfd1-4807-8e2b-7acd879d6b39",
   "metadata": {},
   "source": [
    "<img src='images/4_offset_2d.png'>"
   ]
  },
  {
   "cell_type": "markdown",
   "id": "b7f817fa-099e-44b6-bbd6-6cc5503c08e5",
   "metadata": {},
   "source": [
    "And in code, it looks like this:"
   ]
  },
  {
   "cell_type": "code",
   "execution_count": 9,
   "id": "db0a9f18-edfd-4408-b774-ca1a744e0c99",
   "metadata": {},
   "outputs": [],
   "source": [
    "@triton.jit\n",
    "def rgb2grey_k(x_ptr, out_ptr, h, w, bs0: tl.constexpr, bs1: tl.constexpr):\n",
    "    pid_0 = tl.program_id(0)\n",
    "    pid_1 = tl.program_id(1)\n",
    "    \n",
    "    offs_0 = pid_0 * bs0 + tl.arange(0,bs0)  # 1d vector\n",
    "    offs_1 = pid_1 * bs1 + tl.arange(0,bs1)  # 1d vector\n",
    "\n",
    "    # Weirdness: None-slicing currently doesn't work when simulating on cpu. Use tl.expand_dim instead.\n",
    "    # offs = w * tl.expand_dims(offs_0, 1) + tl.expand_dims(offs_1, 0)\n",
    "    offs = w * offs_0[:,None] + offs_1[None, :]  # 2d matrix! - we multiply first offest by width, see image above\n",
    "\n",
    "    mask_0 = offs_0 < h  # 1d vector\n",
    "    mask_1 = offs_1 < w  # 1d vector\n",
    "\n",
    "    # mask = tl.expand_dims(mask_0, 1) & tl.expand_dims(mask_1, 0)\n",
    "    mask = mask_0[:,None] & mask_1[None,:]  # 2d matrix! - data musn't go out of bounds along either axis, therefore `logical and` of the individual masks\n",
    "    \n",
    "    r = tl.load(x_ptr + 0*h*w+offs, mask=mask)\n",
    "    g = tl.load(x_ptr + 1*h*w+offs, mask=mask)\n",
    "    b = tl.load(x_ptr + 2*h*w+offs, mask=mask)\n",
    "\n",
    "    # Weirdness: multiplying float with uint vectors fails when simulating on cpu\n",
    "    out = 0.2989*r + 0.5870*g + 0.1140*b  # don't worry why it's these 3 numbers we're multiplying with\n",
    "\n",
    "    tl.store(out_ptr + offs, out, mask=mask)"
   ]
  },
  {
   "cell_type": "markdown",
   "id": "f76232e4-22ac-43fb-874c-fa5771f7b514",
   "metadata": {},
   "source": [
    "Let's use the kernel!"
   ]
  },
  {
   "cell_type": "code",
   "execution_count": 10,
   "id": "7b042212-d697-4cc6-ab68-b6420246b801",
   "metadata": {},
   "outputs": [],
   "source": [
    "def rgb2grey(x, bs):\n",
    "    c,h,w = x.shape\n",
    "    out = torch.empty((h,w), dtype=x.dtype, device=x.device)\n",
    "\n",
    "    # grid can be a function returning a 1d/2d/3d-tuple\n",
    "    # (having a grid function is not more useful than a grid tuple in this case, but will be below when benchmarking & auto-tuning)\n",
    "    grid = lambda meta: (cdiv(h, meta['bs0']), cdiv(w,  meta['bs1']))\n",
    "    \n",
    "    rgb2grey_k[grid](x, out, h, w, bs0=bs[0], bs1=bs[1]) # all kwargs are passed into grid function\n",
    "    return out.view(h,w)"
   ]
  },
  {
   "cell_type": "code",
   "execution_count": 11,
   "id": "c63352e3-e9d7-4266-9569-e9424bfe2387",
   "metadata": {
    "scrolled": true
   },
   "outputs": [],
   "source": [
    "grey_img = rgb2grey(img.to('cuda'), bs=(32, 32)).to('cpu')"
   ]
  },
  {
   "cell_type": "code",
   "execution_count": 12,
   "id": "b61c5f31-35ea-420c-a17c-7357fb9c5c31",
   "metadata": {},
   "outputs": [
    {
     "data": {
      "image/png": "[encoded data removed]",
      "text/plain": [
       "<Figure size 400x300 with 1 Axes>"
      ]
     },
     "metadata": {},
     "output_type": "display_data"
    }
   ],
   "source": [
    "show_img(grey_img, cmap='gray')"
   ]
  },
  {
   "cell_type": "markdown",
   "id": "01154495-f3d2-46e7-b309-0a70fbca155f",
   "metadata": {},
   "source": [
    "Very cool"
   ]
  },
  {
   "cell_type": "code",
   "execution_count": null,
   "id": "cc8fc398-10f2-47d7-b339-3930ddf05432",
   "metadata": {},
   "outputs": [],
   "source": []
  },
  {
   "cell_type": "code",
   "execution_count": null,
   "id": "e58452a4-4fa5-431f-8792-856227c1c914",
   "metadata": {},
   "outputs": [],
   "source": []
  },
  {
   "cell_type": "markdown",
   "id": "a5eff701-8bb7-46bd-b5d5-2c5b7157969c",
   "metadata": {},
   "source": [
    "# Example 3: Matmul"
   ]
  },
  {
   "cell_type": "markdown",
   "id": "bc7161a4-e71b-47cb-a12e-2d50e2e232f4",
   "metadata": {},
   "source": [
    "_For simplicity, restart kernel here_"
   ]
  },
  {
   "cell_type": "code",
   "execution_count": 1,
   "id": "46abe407-01de-4173-8e13-a2f1fe5154a0",
   "metadata": {},
   "outputs": [],
   "source": [
    "import os\n",
    "# os.environ['TRITON_INTERPRET'] = '1'\n",
    "\n",
    "import torch\n",
    "import triton\n",
    "import triton.language as tl\n",
    "\n",
    "# moved util functions into separate file for better readability\n",
    "from triton_util import cdiv, breakpoint_if, print_if, check_tensors_gpu_ready"
   ]
  },
  {
   "cell_type": "markdown",
   "id": "f7278a18-a60b-460b-89db-70c353ba7a61",
   "metadata": {},
   "source": [
    "Now, let's implement a naive matmul in Triton. We'll learn:\n",
    "- A method to split computation \n",
    "- Calling functions from our kernel \n",
    "- Using pre-implemented vector/matrix ops within an block\n",
    "\n",
    "This is adapted from the [OpenAI blog post announcing Triton](https://openai.com/research/triton)."
   ]
  },
  {
   "cell_type": "code",
   "execution_count": null,
   "id": "130dc03d-87cf-41bb-9ba0-e2ecd7788fe6",
   "metadata": {},
   "outputs": [],
   "source": []
  },
  {
   "cell_type": "markdown",
   "id": "1f812df0-f5b0-4f63-b864-e539f31cf9f0",
   "metadata": {},
   "source": [
    "We want to multiply the `m x k`-matrix `A` and the `k x n`-matrix `B` into the `m x n`-matrix `C`.\n",
    "\n",
    "We split the computation along each of the three axes:\n",
    "- along the m axis - we'll use block dimension 0 to represent this\n",
    "- along the n axis - we'll use block dimension 1 to represent this\n",
    "- along the shared k axis - this will not be represented by a block. All chunks of computation will be done in same block."
   ]
  },
  {
   "cell_type": "markdown",
   "id": "9953b043-82f3-4a6a-b1ae-fbb03941adf6",
   "metadata": {},
   "source": [
    "<img src='images/5_matmul_split.png'>"
   ]
  },
  {
   "cell_type": "markdown",
   "id": "63175895-4386-4c92-aa2f-0efda65b03f1",
   "metadata": {},
   "source": [
    "Because we frequently create 1d- or 2d-offets and -masks, let's put that functionality into utility functions. As long as these functions are `triton.jit`-ed, they can be used in the kernel."
   ]
  },
  {
   "cell_type": "code",
   "execution_count": 2,
   "id": "f1e8a32d-5036-4013-8c81-bf23aa91e58a",
   "metadata": {},
   "outputs": [],
   "source": [
    "@triton.jit\n",
    "def get_1d_offest(size, n_prev_chunks):\n",
    "    return n_prev_chunks * size + tl.arange(0, size)\n",
    "\n",
    "@triton.jit\n",
    "def get_2d_offset(offs_0, offs_1, stride_0, stride_1=1): \n",
    "    return tl.expand_dims(offs_0, 1)*stride_0 + tl.expand_dims(offs_1, 0)*stride_1\n",
    "\n",
    "@triton.jit\n",
    "def get_1d_mask(offs, max):\n",
    "    return offs < max\n",
    "\n",
    "@triton.jit\n",
    "def get_2d_mask(offs_0, offs_1, max_0, max_1):\n",
    "    return (tl.expand_dims(offs_0, 1) < max_0) & (tl.expand_dims(offs_1, 0) < max_1)"
   ]
  },
  {
   "cell_type": "markdown",
   "id": "7d14f34c-b0f0-4cb6-a8f2-d61992140520",
   "metadata": {},
   "source": [
    "Here's the naive matmul kernel:"
   ]
  },
  {
   "cell_type": "code",
   "execution_count": 3,
   "id": "3626cfcd-61e9-46d5-8aca-55c2ff6b2dc7",
   "metadata": {},
   "outputs": [],
   "source": [
    "@triton.jit\n",
    "def naive_matmul_k(\n",
    "    a_ptr, b_ptr, c_ptr,\n",
    "    m, n, k,\n",
    "    stride_am, stride_ak, \n",
    "    stride_bk, stride_bn,\n",
    "    stride_cm, stride_cn,\n",
    "    bm: tl.constexpr, bn: tl.constexpr, bk: tl.constexpr\n",
    "):\n",
    "    pid_m, pid_n = tl.program_id(0), tl.program_id(1)\n",
    "    # chunks along m/n/k dimensions\n",
    "    rm = get_1d_offest(size=bm, n_prev_chunks=pid_m)\n",
    "    rn = get_1d_offest(size=bn, n_prev_chunks=pid_n)\n",
    "    rk = get_1d_offest(size=bk, n_prev_chunks=0)\n",
    "    # relevant offsets of a, b\n",
    "    offs_a = a_ptr + get_2d_offset(rm, rk, stride_am, stride_ak)\n",
    "    offs_b = b_ptr + get_2d_offset(rk, rn, stride_bk, stride_bn)\n",
    "    # initialize and iteratively update accumulator\n",
    "    acc = tl.zeros((bm, bn), dtype=tl.float32)\n",
    "    for _ in range(0, k, bk):\n",
    "        # todo umer: don't we need mask when loading a & b?\n",
    "        a = tl.load(offs_a)\n",
    "        b = tl.load(offs_b)\n",
    "        acc += tl.dot(a, b, allow_tf32=False) # matmul in block ; Weirdness: allow_tf32 must be set to False for older GPUs, otherwise won't compile\n",
    "        # increase offets, so next iteration loads next chunks\n",
    "        offs_a += bk * stride_ak\n",
    "        offs_b += bk * stride_bk\n",
    "    c = c_ptr + get_2d_offset(rm, rn, stride_cm, stride_cn)\n",
    "    mask = get_2d_mask(rm, rn, m, n)\n",
    "    tl.store(c, acc, mask=mask)"
   ]
  },
  {
   "cell_type": "code",
   "execution_count": 4,
   "id": "5b325bb0-6544-4248-bdd7-28de92ef24fa",
   "metadata": {},
   "outputs": [],
   "source": [
    "from functools import partial\n",
    "\n",
    "def matmul(a, b, matmul_k_fn, bs=16, group_sz=None):\n",
    "    assert a.shape[1] == b.shape[0], \"matrix dims not compatible for matmul\"\n",
    "    check_tensors_gpu_ready(a, b)\n",
    "    (m, k), (_, n) = a.shape, b.shape\n",
    "    c = torch.empty((m, n), device=a.device, dtype=torch.float16)\n",
    "    grid = lambda meta: (triton.cdiv(m, meta['bm']),  triton.cdiv(n, meta['bn']))\n",
    "    group_sz = {} if group_sz is None else {\"group_sz\":group_sz} # not used in naive_matmul, but will be in grouped_matmul further below \n",
    "    matmul_k_fn[grid](\n",
    "        a, b, c,\n",
    "        m, n, k,\n",
    "        a.stride(0), a.stride(1),\n",
    "        b.stride(0), b.stride(1),\n",
    "        c.stride(0), c.stride(1),\n",
    "        bm=bs, bn=bs, bk=bs, # Weirdness: allow_tf32 must be set to False for older GPUs, otherwise won't compile\n",
    "        num_stages=1,\n",
    "        **group_sz\n",
    "    )\n",
    "    return c\n",
    "\n",
    "naive_matmul = partial(matmul, matmul_k_fn=naive_matmul_k)"
   ]
  },
  {
   "cell_type": "code",
   "execution_count": 5,
   "id": "18ec2080-9f53-4ccf-a081-7dbc989863ba",
   "metadata": {},
   "outputs": [],
   "source": [
    "a = torch.ones((3, 4), dtype=torch.float32, device='cuda')\n",
    "b = torch.ones((4, 5), dtype=torch.float32, device='cuda')"
   ]
  },
  {
   "cell_type": "code",
   "execution_count": 6,
   "id": "16378565-3902-45a8-8cbb-ec5bd4a05383",
   "metadata": {},
   "outputs": [
    {
     "data": {
      "text/plain": [
       "tensor([[1.5752, 1.5752, 1.5752, 1.5752, 1.5752],\n",
       "        [3.6211, 3.6211, 3.6211, 3.6211, 3.6211],\n",
       "        [5.6641, 5.6641, 5.6641, 5.6641, 5.6641]], device='cuda:0',\n",
       "       dtype=torch.float16)"
      ]
     },
     "execution_count": 6,
     "metadata": {},
     "output_type": "execute_result"
    }
   ],
   "source": [
    "naive_matmul(a,b)"
   ]
  },
  {
   "cell_type": "markdown",
   "id": "c3b16622-9e99-49a6-990a-7faf2b0a94fa",
   "metadata": {},
   "source": [
    "Let's unit test this against PyTorch's implementation"
   ]
  },
  {
   "cell_type": "code",
   "execution_count": 7,
   "id": "8750b295-4ba0-47d6-91fd-20822587050c",
   "metadata": {},
   "outputs": [
    {
     "name": "stdout",
     "output_type": "stream",
     "text": [
      "❌ Triton and Torch differ\n"
     ]
    }
   ],
   "source": [
    "torch.manual_seed(0)\n",
    "a = torch.randn((512, 512), device='cuda', dtype=torch.float16)\n",
    "b = torch.randn((512, 512), device='cuda', dtype=torch.float16)\n",
    "triton_output = naive_matmul(a, b)\n",
    "torch_output = torch.matmul(a, b)\n",
    "if torch.allclose(triton_output, torch_output, atol=5e-2, rtol=0):\n",
    "    print(\"✅ Triton and Torch match\")\n",
    "else:\n",
    "    print(\"❌ Triton and Torch differ\")"
   ]
  },
  {
   "cell_type": "code",
   "execution_count": null,
   "id": "de3debc9-29d2-42d0-b6e3-c542945fa95b",
   "metadata": {},
   "outputs": [],
   "source": []
  },
  {
   "cell_type": "code",
   "execution_count": null,
   "id": "300462cf-4733-4292-bf5b-303675279d1b",
   "metadata": {},
   "outputs": [],
   "source": []
  },
  {
   "cell_type": "markdown",
   "id": "b14e03db-9fb7-4031-8ef5-9da3c8fe84a2",
   "metadata": {},
   "source": [
    "# Example 4: Faster Matmul"
   ]
  },
  {
   "cell_type": "markdown",
   "id": "869d4a2f-56b2-419a-9268-b6fc8ee3fe3b",
   "metadata": {},
   "source": [
    "_Note: Needs code from example 3, so run that before_"
   ]
  },
  {
   "cell_type": "markdown",
   "id": "280afa03-1b13-42f3-ab19-a0233d68fee4",
   "metadata": {},
   "source": [
    "Triton handles the order of memory access **within** blocks, but not **across** blocks. So this is a knob we can use to make our kernels faster.\n",
    "\n",
    "In fact, cleverly reordering blocks can increase L2-cache hit rate, which makes our kernels faster. This example is taken from the [triton docs](https://triton-lang.org/main/getting-started/tutorials/03-matrix-multiplication.html)."
   ]
  },
  {
   "cell_type": "markdown",
   "id": "ae9f3487-e397-4252-a224-65bad7794a89",
   "metadata": {},
   "source": [
    "Now, to make better use of the L2 cache, we want to reuse data that's was recently loaded, and is therefore likely still in the L2 cache. How? By reducing the number of _different_ data loads that a bunch of \"consecutive\" kernels need. By \"consecutive\" we mean kernels that are executed approximately at the same time.\n",
    "\n",
    "This picture (adapter from the [triton docs](https://triton-lang.org/main/getting-started/tutorials/03-matrix-multiplication.html)) shows how we can do that. If we order naively, the first row of the output matrix is computed \"consecutively\", which needs 90 different block reads (9 from matrix A, 81 from matrix B). If we use \"group ordering\", a 3x3 square of blocks of the output matrix is computed \"consecutively\", which needs 54 different block reads (27 from matrix A, 27 from matrix B)."
   ]
  },
  {
   "cell_type": "markdown",
   "id": "be3e9c0e-52d2-4460-af1a-3b51ea12231a",
   "metadata": {},
   "source": [
    "<img src='images/6_matmul_order.png'>"
   ]
  },
  {
   "cell_type": "markdown",
   "id": "6c1ac57b-9bdb-49ff-ba7b-505a00cc6b52",
   "metadata": {},
   "source": [
    "_Note: In the docs, grouping is called \"super-grouping\"_"
   ]
  },
  {
   "cell_type": "markdown",
   "id": "b6c75d7b-ba98-477f-a739-7077ee348801",
   "metadata": {},
   "source": [
    "Okay, how can we tell Triton in which order to process blocks? The answer is: We take the pids, change them, and use them as if they were the original pids.\n",
    "\n",
    "Let's do a minimal example to illustrate this principle:"
   ]
  },
  {
   "cell_type": "code",
   "execution_count": 8,
   "id": "25d3ead8-a2de-4cce-a435-71aaeb99d6b1",
   "metadata": {},
   "outputs": [
    {
     "name": "stdout",
     "output_type": "stream",
     "text": [
      "I'm processing item 0\n",
      "I'm processing item 1\n",
      "I'm processing item 2\n",
      "I'm processing item 3\n",
      "I'm processing item 4\n"
     ]
    }
   ],
   "source": [
    "def process_item(id): print(f\"I'm processing item {id}\")\n",
    "\n",
    "for i in range(5): process_item(i)"
   ]
  },
  {
   "cell_type": "code",
   "execution_count": 9,
   "id": "6f4ff8a5-787b-480b-9556-22919b3fba3d",
   "metadata": {},
   "outputs": [
    {
     "name": "stdout",
     "output_type": "stream",
     "text": [
      "I'm processing item 5\n",
      "I'm processing item 4\n",
      "I'm processing item 3\n",
      "I'm processing item 2\n",
      "I'm processing item 1\n"
     ]
    }
   ],
   "source": [
    "def change_id(old_id): return 5-old_id\n",
    "\n",
    "for i in range(5): process_item(change_id(i))"
   ]
  },
  {
   "cell_type": "markdown",
   "id": "16ddad6f-acc9-4305-ba8a-089bc11d6e53",
   "metadata": {},
   "source": [
    "Et voilà, the items were processed in a different order."
   ]
  },
  {
   "cell_type": "code",
   "execution_count": null,
   "id": "3afadaea-d07b-4645-af81-260be56f2cce",
   "metadata": {},
   "outputs": [],
   "source": []
  },
  {
   "cell_type": "markdown",
   "id": "11fabefc-d72b-4a6f-a1b5-15fd9b39e826",
   "metadata": {},
   "source": [
    "So how should the pid-change-function for faster matmul look like? It should change the left matrix into the right matrix."
   ]
  },
  {
   "cell_type": "markdown",
   "id": "6203104d-aaa9-4a82-b4df-7a3c5db5e511",
   "metadata": {},
   "source": [
    "<img src='images/7_swizzling_exmple.png'>"
   ]
  },
  {
   "cell_type": "markdown",
   "id": "3d29396e-4028-4151-84fd-30fc6b089390",
   "metadata": {},
   "source": [
    "On the left, the default ordering is shown (called \"row-major\"). Remember, we deal with blocks. We can't arrange how the individual cells are processed, only the blocks. In the picture, our output matrix C has `5x7 = 35` cells, but only `cdiv(5,1) x cdiv(7,2) = 5x4 = 20` blocks.\n",
    "\n",
    "On the right, notice how the first 9 processed blocks are the `3x3` grid we want! We process 3 blocks in a column. Then advance a column, again process 3, advance, and so on. The orange lines show where advance. This operation is called **\"swizzling\"**.\n",
    "\n",
    "By the way, you can of course change the number 3. It's called the `group_size`."
   ]
  },
  {
   "cell_type": "markdown",
   "id": "99342eae-0aa0-4ce1-86ab-ea92dde81211",
   "metadata": {},
   "source": []
  },
  {
   "cell_type": "markdown",
   "id": "43c23d71-a321-487b-ac42-bc997b8dc943",
   "metadata": {},
   "source": [
    "You don't need to write swizzling yourself, as  there is a `triton.language.swizzle2d` function.\n",
    "\n",
    "To really understand `swizzle2d`, let's quickly verifiy it works as expected. We'll then continue to use it in our faster matmul kernel."
   ]
  },
  {
   "cell_type": "markdown",
   "id": "67b54510-d04f-4436-adb2-ca73ba4b1731",
   "metadata": {},
   "source": [
    "_Side-Goal:_ Use `swizzle2d` on a `5x4` matrix with elements `0 ... 19` in row-major ordering. We should then get a matrix with elements in grouped ordering."
   ]
  },
  {
   "cell_type": "code",
   "execution_count": 10,
   "id": "027afac9-9bb5-4c1d-8671-741d8b166675",
   "metadata": {},
   "outputs": [],
   "source": [
    "@triton.jit\n",
    "def swizzle_k(x_ptr, z_ptr, group_sz: tl.constexpr):\n",
    "    pid_m, pid_n = tl.program_id(0), tl.program_id(1)\n",
    "    num_pid_m, num_pid_n = tl.num_programs(0), tl.num_programs(1)\n",
    "\n",
    "    pid_m_, pid_n_ = tl.swizzle2d(pid_m, pid_n, num_pid_m, num_pid_n, group_sz)  # Weirdness: tl.swizzle2d doesn't work when simulating on CPU\n",
    "    \n",
    "    offs_m = get_1d_offest(1, n_prev_chunks=pid_m)\n",
    "    offs_n = get_1d_offest(1, n_prev_chunks=pid_n)\n",
    "    \n",
    "    offs = get_2d_offset(offs_m, offs_n, stride_0=num_pid_n)\n",
    "    mask = get_2d_mask(offs_m, offs_n, max_0=num_pid_m, max_1=num_pid_n )\n",
    "\n",
    "    offs_sw_m = get_1d_offest(1, n_prev_chunks=pid_m_)\n",
    "    offs_sw_n = get_1d_offest(1, n_prev_chunks=pid_n_)\n",
    "    \n",
    "    offs_sw = get_2d_offset(offs_sw_m, offs_sw_n, stride_0=num_pid_n)\n",
    "    mask_sw = get_2d_mask(offs_sw_m, offs_sw_n, max_0=num_pid_m, max_1=num_pid_n)\n",
    "    \n",
    "    x = tl.load(x_ptr + offs, mask=mask)\n",
    "    tl.store(z_ptr + offs_sw, x, mask=mask_sw)"
   ]
  },
  {
   "cell_type": "code",
   "execution_count": 11,
   "id": "5f9b84d1-5740-4b75-85e5-abed693a305c",
   "metadata": {},
   "outputs": [
    {
     "data": {
      "text/plain": [
       "tensor([[ 0,  1,  2,  3],\n",
       "        [ 4,  5,  6,  7],\n",
       "        [ 8,  9, 10, 11],\n",
       "        [12, 13, 14, 15],\n",
       "        [16, 17, 18, 19]], device='cuda:0')"
      ]
     },
     "execution_count": 11,
     "metadata": {},
     "output_type": "execute_result"
    }
   ],
   "source": [
    "blocks_m, blocks_n = 5,4\n",
    "\n",
    "x = torch.arange(blocks_m*blocks_n, device='cuda').view(blocks_m,blocks_n)\n",
    "x"
   ]
  },
  {
   "cell_type": "code",
   "execution_count": 12,
   "id": "8621717b-5173-4eb3-a14a-3ac823afddd4",
   "metadata": {},
   "outputs": [
    {
     "data": {
      "text/plain": [
       "tensor([[-1, -1, -1, -1],\n",
       "        [-1, -1, -1, -1],\n",
       "        [-1, -1, -1, -1],\n",
       "        [-1, -1, -1, -1],\n",
       "        [-1, -1, -1, -1]], device='cuda:0')"
      ]
     },
     "execution_count": 12,
     "metadata": {},
     "output_type": "execute_result"
    }
   ],
   "source": [
    "z = -torch.ones_like(x) # empty matrix, with -1 denoting empty\n",
    "z"
   ]
  },
  {
   "cell_type": "code",
   "execution_count": 13,
   "id": "ded2fc2f-2e99-4735-9bf4-8d2e3f840578",
   "metadata": {},
   "outputs": [],
   "source": [
    "# swizzle x into z\n",
    "swizzle_k[(blocks_m,blocks_n)](x,z, group_sz=3);"
   ]
  },
  {
   "cell_type": "code",
   "execution_count": 14,
   "id": "53a177f8-0ee2-4a10-b95e-9ea293f8928b",
   "metadata": {},
   "outputs": [
    {
     "data": {
      "text/plain": [
       "tensor([[ 0,  3,  6,  9],\n",
       "        [ 1,  4,  7, 10],\n",
       "        [ 2,  5,  8, 11],\n",
       "        [12, 14, 16, 18],\n",
       "        [13, 15, 17, 19]], device='cuda:0')"
      ]
     },
     "execution_count": 14,
     "metadata": {},
     "output_type": "execute_result"
    }
   ],
   "source": [
    "z"
   ]
  },
  {
   "cell_type": "markdown",
   "id": "ddf9cbc5-9118-4b3f-b7ef-92be45139e72",
   "metadata": {},
   "source": [
    "Looks good!"
   ]
  },
  {
   "cell_type": "markdown",
   "id": "8c31e53a-0de9-40de-b498-7206598a2aaf",
   "metadata": {},
   "source": [
    "___"
   ]
  },
  {
   "cell_type": "markdown",
   "id": "00b10c98-766b-45bf-b44f-839630c37f46",
   "metadata": {},
   "source": [
    "Let's now implement the grouped matmul kernel, which will be faster than the regular matmul."
   ]
  },
  {
   "cell_type": "code",
   "execution_count": 15,
   "id": "10509f97-fe4d-4e32-860a-39ee833bacbc",
   "metadata": {},
   "outputs": [],
   "source": [
    "@triton.jit\n",
    "def grouped_matmul_k(\n",
    "    a_ptr, b_ptr, c_ptr,\n",
    "    m, n, k,\n",
    "    stride_am, stride_ak, \n",
    "    stride_bk, stride_bn,\n",
    "    stride_cm, stride_cn,\n",
    "    bm: tl.constexpr, bn: tl.constexpr, bk: tl.constexpr, group_sz: tl.constexpr\n",
    "):\n",
    "    pid_m, pid_n = tl.program_id(0), tl.program_id(1)\n",
    "    num_pid_m, num_pid_n = tl.num_programs(0), tl.num_programs(1)\n",
    "    # determine location of block in grouped ordering - swizzle! \n",
    "    pid_m, pid_n = tl.swizzle2d(pid_m, pid_n, num_pid_m, num_pid_n, group_sz)  # Weirdness: tl.swizzle2d doesn't work when simulating on CPU\n",
    "    # chunks along m/n/k dimensions\n",
    "    rm = get_1d_offest(size=bm, n_prev_chunks=pid_m)\n",
    "    rn = get_1d_offest(size=bn, n_prev_chunks=pid_n)\n",
    "    rk = get_1d_offest(size=bk, n_prev_chunks=0)\n",
    "    # relevant offsets of a, b\n",
    "    offs_a = a_ptr + get_2d_offset(rm, rk, stride_am, stride_ak)\n",
    "    offs_b = b_ptr + get_2d_offset(rk, rn, stride_bk, stride_bn)\n",
    "    # initialize and iteratively update accumulator\n",
    "    acc = tl.zeros((bm, bn), dtype=tl.float32)\n",
    "    for _ in range(0, k, bk):\n",
    "        # todo umer: don't we need mask when loading a & b?\n",
    "        a = tl.load(offs_a)\n",
    "        b = tl.load(offs_b)\n",
    "        acc += tl.dot(a, b, allow_tf32=False) # block level matrix multiplication ; Weirdness: allow_tf32 must be set to False for older GPUs, otherwise won't compile\n",
    "        # increase offets, so next iteration loads next chunks\n",
    "        offs_a += bk * stride_ak\n",
    "        offs_b += bk * stride_bk\n",
    "    c = c_ptr + get_2d_offset(rm, rn, stride_cm, stride_cn)\n",
    "    mask = get_2d_mask(rm, rn, m, n)\n",
    "    tl.store(c, acc, mask=mask)"
   ]
  },
  {
   "cell_type": "code",
   "execution_count": 16,
   "id": "c2338e4a-456c-40e8-be28-7a13f84101ae",
   "metadata": {},
   "outputs": [],
   "source": [
    "grouped_matmul = partial(matmul, matmul_k_fn=grouped_matmul_k)"
   ]
  },
  {
   "cell_type": "code",
   "execution_count": 17,
   "id": "733268c2-29ae-4660-a9be-a36c27d5665e",
   "metadata": {},
   "outputs": [],
   "source": [
    "a = torch.ones((3, 4), dtype=torch.float32, device='cuda')\n",
    "b = torch.ones((4, 5), dtype=torch.float32, device='cuda')"
   ]
  },
  {
   "cell_type": "code",
   "execution_count": 18,
   "id": "79960772-3459-4469-847f-9eb673a6ea7a",
   "metadata": {},
   "outputs": [
    {
     "data": {
      "text/plain": [
       "tensor([[4., 4., 4., 4., 4.],\n",
       "        [4., 4., 4., 4., 4.],\n",
       "        [4., 4., 4., 4., 4.]], device='cuda:0', dtype=torch.float16)"
      ]
     },
     "execution_count": 18,
     "metadata": {},
     "output_type": "execute_result"
    }
   ],
   "source": [
    "grouped_matmul(a,b, group_sz=4)"
   ]
  },
  {
   "cell_type": "markdown",
   "id": "2d043afb-43b0-4757-a3b5-8f6090749352",
   "metadata": {},
   "source": [
    "Let's unit test this against PyTorch's implementation"
   ]
  },
  {
   "cell_type": "code",
   "execution_count": 19,
   "id": "397e7e84-25df-4484-87b1-e4cffe658de8",
   "metadata": {},
   "outputs": [
    {
     "name": "stdout",
     "output_type": "stream",
     "text": [
      "❌ Triton and Torch differ\n"
     ]
    }
   ],
   "source": [
    "torch.manual_seed(0)\n",
    "a = torch.randn((512, 512), device='cuda', dtype=torch.float16)\n",
    "b = torch.randn((512, 512), device='cuda', dtype=torch.float16)\n",
    "triton_output = grouped_matmul(a, b, group_sz=32)\n",
    "torch_output = torch.matmul(a, b)\n",
    "if torch.allclose(triton_output, torch_output, atol=5e-2, rtol=0):\n",
    "    print(\"✅ Triton and Torch match\")\n",
    "else:\n",
    "    print(\"❌ Triton and Torch differ\")"
   ]
  },
  {
   "cell_type": "code",
   "execution_count": null,
   "id": "5b953c7b-6c5f-47aa-947d-8b03a434ddcf",
   "metadata": {},
   "outputs": [],
   "source": []
  },
  {
   "cell_type": "code",
   "execution_count": 20,
   "id": "5738331f-be8b-4875-a429-af6acdb85e89",
   "metadata": {},
   "outputs": [
    {
     "name": "stdout",
     "output_type": "stream",
     "text": [
      "\u001b[37mROCk module is loaded\u001b[0m\n",
      "=====================    \n",
      "HSA System Attributes    \n",
      "=====================    \n",
      "Runtime Version:         1.1\n",
      "System Timestamp Freq.:  1000.000000MHz\n",
      "Sig. Max Wait Duration:  18446744073709551615 (0xFFFFFFFFFFFFFFFF) (timestamp count)\n",
      "Machine Model:           LARGE                              \n",
      "System Endianness:       LITTLE                             \n",
      "Mwaitx:                  DISABLED\n",
      "DMAbuf Support:          YES\n",
      "\n",
      "==========               \n",
      "HSA Agents               \n",
      "==========               \n",
      "*******                  \n",
      "Agent 1                  \n",
      "*******                  \n",
      "  Name:                    AMD Ryzen 9 7950X 16-Core Processor\n",
      "  Uuid:                    CPU-XX                             \n",
      "  Marketing Name:          AMD Ryzen 9 7950X 16-Core Processor\n",
      "  Vendor Name:             CPU                                \n",
      "  Feature:                 None specified                     \n",
      "  Profile:                 FULL_PROFILE                       \n",
      "  Float Round Mode:        NEAR                               \n",
      "  Max Queue Number:        0(0x0)                             \n",
      "  Queue Min Size:          0(0x0)                             \n",
      "  Queue Max Size:          0(0x0)                             \n",
      "  Queue Type:              MULTI                              \n",
      "  Node:                    0                                  \n",
      "  Device Type:             CPU                                \n",
      "  Cache Info:              \n",
      "    L1:                      32768(0x8000) KB                   \n",
      "  Chip ID:                 0(0x0)                             \n",
      "  ASIC Revision:           0(0x0)                             \n",
      "  Cacheline Size:          64(0x40)                           \n",
      "  Max Clock Freq. (MHz):   4500                               \n",
      "  BDFID:                   0                                  \n",
      "  Internal Node ID:        0                                  \n",
      "  Compute Unit:            32                                 \n",
      "  SIMDs per CU:            0                                  \n",
      "  Shader Engines:          0                                  \n",
      "  Shader Arrs. per Eng.:   0                                  \n",
      "  WatchPts on Addr. Ranges:1                                  \n",
      "  Features:                None\n",
      "  Pool Info:               \n",
      "    Pool 1                   \n",
      "      Segment:                 GLOBAL; FLAGS: FINE GRAINED        \n",
      "      Size:                    131625220(0x7d87104) KB            \n",
      "      Allocatable:             TRUE                               \n",
      "      Alloc Granule:           4KB                                \n",
      "      Alloc Alignment:         4KB                                \n",
      "      Accessible by all:       TRUE                               \n",
      "    Pool 2                   \n",
      "      Segment:                 GLOBAL; FLAGS: KERNARG, FINE GRAINED\n",
      "      Size:                    131625220(0x7d87104) KB            \n",
      "      Allocatable:             TRUE                               \n",
      "      Alloc Granule:           4KB                                \n",
      "      Alloc Alignment:         4KB                                \n",
      "      Accessible by all:       TRUE                               \n",
      "    Pool 3                   \n",
      "      Segment:                 GLOBAL; FLAGS: COARSE GRAINED      \n",
      "      Size:                    131625220(0x7d87104) KB            \n",
      "      Allocatable:             TRUE                               \n",
      "      Alloc Granule:           4KB                                \n",
      "      Alloc Alignment:         4KB                                \n",
      "      Accessible by all:       TRUE                               \n",
      "  ISA Info:                \n",
      "*******                  \n",
      "Agent 2                  \n",
      "*******                  \n",
      "  Name:                    gfx90a                             \n",
      "  Uuid:                    GPU-b49fc819d482c02f               \n",
      "  Marketing Name:          AMD Instinct MI210                 \n",
      "  Vendor Name:             AMD                                \n",
      "  Feature:                 KERNEL_DISPATCH                    \n",
      "  Profile:                 BASE_PROFILE                       \n",
      "  Float Round Mode:        NEAR                               \n",
      "  Max Queue Number:        128(0x80)                          \n",
      "  Queue Min Size:          64(0x40)                           \n",
      "  Queue Max Size:          131072(0x20000)                    \n",
      "  Queue Type:              MULTI                              \n",
      "  Node:                    1                                  \n",
      "  Device Type:             GPU                                \n",
      "  Cache Info:              \n",
      "    L1:                      16(0x10) KB                        \n",
      "    L2:                      8192(0x2000) KB                    \n",
      "  Chip ID:                 29711(0x740f)                      \n",
      "  ASIC Revision:           1(0x1)                             \n",
      "  Cacheline Size:          64(0x40)                           \n",
      "  Max Clock Freq. (MHz):   1700                               \n",
      "  BDFID:                   768                                \n",
      "  Internal Node ID:        1                                  \n",
      "  Compute Unit:            104                                \n",
      "  SIMDs per CU:            4                                  \n",
      "  Shader Engines:          8                                  \n",
      "  Shader Arrs. per Eng.:   1                                  \n",
      "  WatchPts on Addr. Ranges:4                                  \n",
      "  Coherent Host Access:    FALSE                              \n",
      "  Features:                KERNEL_DISPATCH \n",
      "  Fast F16 Operation:      TRUE                               \n",
      "  Wavefront Size:          64(0x40)                           \n",
      "  Workgroup Max Size:      1024(0x400)                        \n",
      "  Workgroup Max Size per Dimension:\n",
      "    x                        1024(0x400)                        \n",
      "    y                        1024(0x400)                        \n",
      "    z                        1024(0x400)                        \n",
      "  Max Waves Per CU:        32(0x20)                           \n",
      "  Max Work-item Per CU:    2048(0x800)                        \n",
      "  Grid Max Size:           4294967295(0xffffffff)             \n",
      "  Grid Max Size per Dimension:\n",
      "    x                        4294967295(0xffffffff)             \n",
      "    y                        4294967295(0xffffffff)             \n",
      "    z                        4294967295(0xffffffff)             \n",
      "  Max fbarriers/Workgrp:   32                                 \n",
      "  Packet Processor uCode:: 78                                 \n",
      "  SDMA engine uCode::      8                                  \n",
      "  IOMMU Support::          None                               \n",
      "  Pool Info:               \n",
      "    Pool 1                   \n",
      "      Segment:                 GLOBAL; FLAGS: COARSE GRAINED      \n",
      "      Size:                    67092480(0x3ffc000) KB             \n",
      "      Allocatable:             TRUE                               \n",
      "      Alloc Granule:           4KB                                \n",
      "      Alloc Alignment:         4KB                                \n",
      "      Accessible by all:       FALSE                              \n",
      "    Pool 2                   \n",
      "      Segment:                 GLOBAL; FLAGS: EXTENDED FINE GRAINED\n",
      "      Size:                    67092480(0x3ffc000) KB             \n",
      "      Allocatable:             TRUE                               \n",
      "      Alloc Granule:           4KB                                \n",
      "      Alloc Alignment:         4KB                                \n",
      "      Accessible by all:       FALSE                              \n",
      "    Pool 3                   \n",
      "      Segment:                 GLOBAL; FLAGS: FINE GRAINED        \n",
      "      Size:                    67092480(0x3ffc000) KB             \n",
      "      Allocatable:             TRUE                               \n",
      "      Alloc Granule:           4KB                                \n",
      "      Alloc Alignment:         4KB                                \n",
      "      Accessible by all:       FALSE                              \n",
      "    Pool 4                   \n",
      "      Segment:                 GROUP                              \n",
      "      Size:                    64(0x40) KB                        \n",
      "      Allocatable:             FALSE                              \n",
      "      Alloc Granule:           0KB                                \n",
      "      Alloc Alignment:         0KB                                \n",
      "      Accessible by all:       FALSE                              \n",
      "  ISA Info:                \n",
      "    ISA 1                    \n",
      "      Name:                    amdgcn-amd-amdhsa--gfx90a:sramecc+:xnack-\n",
      "      Machine Models:          HSA_MACHINE_MODEL_LARGE            \n",
      "      Profiles:                HSA_PROFILE_BASE                   \n",
      "      Default Rounding Mode:   NEAR                               \n",
      "      Default Rounding Mode:   NEAR                               \n",
      "      Fast f16:                TRUE                               \n",
      "      Workgroup Max Size:      1024(0x400)                        \n",
      "      Workgroup Max Size per Dimension:\n",
      "        x                        1024(0x400)                        \n",
      "        y                        1024(0x400)                        \n",
      "        z                        1024(0x400)                        \n",
      "      Grid Max Size:           4294967295(0xffffffff)             \n",
      "      Grid Max Size per Dimension:\n",
      "        x                        4294967295(0xffffffff)             \n",
      "        y                        4294967295(0xffffffff)             \n",
      "        z                        4294967295(0xffffffff)             \n",
      "      FBarrier Max Size:       32                                 \n",
      "*** Done ***             \n"
     ]
    }
   ],
   "source": [
    "! rocminfo"
   ]
  },
  {
   "cell_type": "markdown",
   "id": "43ec774d-1930-4173-a9fa-40e02da535f5",
   "metadata": {},
   "source": [
    "# Benchmarking"
   ]
  },
  {
   "cell_type": "markdown",
   "id": "d72bfe38-017e-42a8-9fc1-b5d42d45396a",
   "metadata": {},
   "source": [
    "Triton brings built-in benchmarking tools with it. Here's an example how to use it."
   ]
  },
  {
   "cell_type": "code",
   "execution_count": 21,
   "id": "bb30aeb9-c025-492c-aa1f-933f92b6c724",
   "metadata": {},
   "outputs": [],
   "source": [
    "# adapted from https://triton-lang.org/main/getting-started/tutorials/01-vector-add.html\n",
    "@triton.testing.perf_report(\n",
    "    triton.testing.Benchmark(\n",
    "        x_names=['square_matrix_size'],  # Argument names to use as an x-axis for the plot.\n",
    "        x_vals=[2**i for i in range(5, 12, 1)],  # Different possible values for `x_name`.\n",
    "        x_log=True,  # x axis is logarithmic.\n",
    "        line_arg='provider',  # Argument name whose value corresponds to a different line in the plot.\n",
    "        line_vals=['naive', 'grouped', 'torch'],  # Possible values for `line_arg`.\n",
    "        line_names=['Naive', 'Grouped', 'Torch'],  # Label name for the lines.\n",
    "        styles=[('blue', '-'), ('green', '-'), ('orange','-')],  # Line styles.\n",
    "        ylabel='GB/s',  # Label name for the y-axis.\n",
    "        plot_name='matmul-performance',  # Name for the plot. Used also as a file name for saving the plot.\n",
    "        args={},  # Values for function arguments not in `x_names` and `y_name`.\n",
    "    ))\n",
    "def benchmark(square_matrix_size, provider):\n",
    "    sz = square_matrix_size\n",
    "    a = torch.rand((sz, sz), device='cuda', dtype=torch.float32)\n",
    "    b = torch.rand((sz, sz), device='cuda', dtype=torch.float32)\n",
    "    quantiles = [0.5, 0.2, 0.8]\n",
    "    if provider == 'naive':   ms, min_ms, max_ms = triton.testing.do_bench(lambda: naive_matmul(a, b), quantiles=quantiles)\n",
    "    if provider == 'grouped': ms, min_ms, max_ms = triton.testing.do_bench(lambda: grouped_matmul(a, b, group_sz=8), quantiles=quantiles)\n",
    "    if provider == 'torch':   ms, min_ms, max_ms = triton.testing.do_bench(lambda: torch.matmul(a,b), quantiles=quantiles)\n",
    "    gbps = lambda ms: 12 * sz / ms * 1e-6\n",
    "    return gbps(ms), gbps(max_ms), gbps(min_ms)"
   ]
  },
  {
   "cell_type": "code",
   "execution_count": null,
   "id": "2085cdba-731c-476a-9325-a7d0aa8f0c0a",
   "metadata": {},
   "outputs": [],
   "source": []
  },
  {
   "cell_type": "code",
   "execution_count": 22,
   "id": "acec5487-c05d-4da4-a7f3-f808fae779fa",
   "metadata": {},
   "outputs": [
    {
     "data": {
      "image/png": "[encoded data removed]",
      "text/plain": [
       "<Figure size 640x480 with 1 Axes>"
      ]
     },
     "metadata": {},
     "output_type": "display_data"
    },
    {
     "name": "stdout",
     "output_type": "stream",
     "text": [
      "matmul-performance:\n",
      "   square_matrix_size     Naive   Grouped     Torch\n",
      "0                32.0  0.028916  0.026667  0.030380\n",
      "1                64.0  0.050526  0.047059  0.058537\n",
      "2               128.0  0.082051  0.077419  0.095050\n",
      "3               256.0  0.115663  0.110983  0.177778\n",
      "4               512.0  0.072866  0.075889  0.234146\n",
      "5              1024.0  0.024136  0.024159  0.156735\n",
      "6              2048.0  0.003112  0.003273  0.049500\n"
     ]
    }
   ],
   "source": [
    "benchmark.run(print_data=True, show_plots=True)"
   ]
  },
  {
   "cell_type": "markdown",
   "id": "92a65c89-febf-4672-8f8a-b907108e46a5",
   "metadata": {},
   "source": [
    "_Note Umer: I would've expected the GB/s to increase as the matrix sizes get larger. Why don't they? Maybe because share memory is full, so kernel spends more and more time reloading stuff_"
   ]
  },
  {
   "cell_type": "code",
   "execution_count": null,
   "id": "41980f55-159e-47ba-95f9-21fd7a07e625",
   "metadata": {},
   "outputs": [],
   "source": []
  },
  {
   "cell_type": "markdown",
   "id": "a5d2da3e-6382-4275-908d-d8d195d12dff",
   "metadata": {},
   "source": [
    "Let's try different block sizes:"
   ]
  },
  {
   "cell_type": "code",
   "execution_count": 23,
   "id": "2af01ab8-fb78-4420-9e32-90cf595af400",
   "metadata": {},
   "outputs": [
    {
     "data": {
      "image/png": "[encoded data removed]",
      "text/plain": [
       "<Figure size 640x480 with 1 Axes>"
      ]
     },
     "metadata": {},
     "output_type": "display_data"
    },
    {
     "name": "stdout",
     "output_type": "stream",
     "text": [
      "matmul-performance:\n",
      "   batch_size    Naived   Grouped     Torch\n",
      "0        16.0  0.072865  0.076190  0.234146\n",
      "1        32.0  0.080168  0.080000  0.234146\n",
      "2        64.0  0.088889  0.088277  0.234146\n"
     ]
    }
   ],
   "source": [
    "# @triton.testing.perf_report(\n",
    "#     triton.testing.Benchmark(\n",
    "#         x_names=['batch_size'], x_vals=[2**i for i in range(4, 7, 1)], x_log=True,\n",
    "#         line_arg='provider', line_vals=['naive', 'grouped', 'torch'], line_names=['Naive', 'Grouped', 'Torch'],\n",
    "#         styles=[('blue', '-'), ('green', '-'), ('orange','-')],\n",
    "#         ylabel='GB/s', plot_name='matmul-performance', args={}\n",
    "#     ))\n",
    "@triton.testing.perf_report(\n",
    "    triton.testing.Benchmark(\n",
    "        x_names=['batch_size'], x_vals=[2**i for i in range(4, 7, 1)], x_log=True,\n",
    "        line_arg='provider', line_vals=['naive', 'grouped', 'torch'], line_names=['Naived', 'Grouped', 'Torch'],\n",
    "        styles=[('blue', '-'), ('green', '-'), ('orange','-')],\n",
    "        ylabel='GB/s', plot_name='matmul-performance', args={}\n",
    "    ))\n",
    "def benchmark(batch_size, provider):\n",
    "    sz = 512\n",
    "    a = torch.rand((sz, sz), device='cuda', dtype=torch.float32)\n",
    "    b = torch.rand((sz, sz), device='cuda', dtype=torch.float32)\n",
    "    quantiles = [0.5, 0.2, 0.8]\n",
    "    if provider == 'naive':   ms, min_ms, max_ms = triton.testing.do_bench(lambda: naive_matmul(a, b, bs=batch_size), quantiles=quantiles)\n",
    "    if provider == 'grouped': ms, min_ms, max_ms = triton.testing.do_bench(lambda: grouped_matmul(a, b, bs=batch_size, group_sz=8), quantiles=quantiles)\n",
    "    if provider == 'torch':   ms, min_ms, max_ms = triton.testing.do_bench(lambda: torch.matmul(a,b), quantiles=quantiles)\n",
    "    gbps = lambda ms: 12 * sz / ms * 1e-6\n",
    "    return gbps(ms), gbps(max_ms), gbps(min_ms)\n",
    "\n",
    "benchmark.run(print_data=True, show_plots=True)"
   ]
  },
  {
   "cell_type": "markdown",
   "id": "4718c500-56e2-418b-ba05-4c6e10bb9018",
   "metadata": {},
   "source": [
    "Larger block sizes seem to be better. Let's compare with pytorch again, using larger block sizes."
   ]
  },
  {
   "cell_type": "code",
   "execution_count": 24,
   "id": "0e2eb214-3ca7-4dd8-868a-08f9bc2867b8",
   "metadata": {},
   "outputs": [
    {
     "data": {
      "image/png": "[encoded data removed]",
      "text/plain": [
       "<Figure size 640x480 with 1 Axes>"
      ]
     },
     "metadata": {},
     "output_type": "display_data"
    },
    {
     "name": "stdout",
     "output_type": "stream",
     "text": [
      "matmul-performance:\n",
      "   square_matrix_size     Naive   Grouped     Torch\n",
      "0                32.0  0.021429  0.020870  0.030380\n",
      "1                64.0  0.038400  0.037795  0.058537\n",
      "2               128.0  0.057485  0.056805  0.095050\n",
      "3               256.0  0.075000  0.074419  0.179439\n",
      "4               512.0  0.088889  0.088479  0.234146\n",
      "5              1024.0  0.041990  0.041796  0.156735\n",
      "6              2048.0  0.013902  0.013931  0.049453\n"
     ]
    }
   ],
   "source": [
    "@triton.testing.perf_report(\n",
    "    triton.testing.Benchmark(\n",
    "        x_names=['square_matrix_size'], x_vals=[2**i for i in range(5, 12, 1)], x_log=True,\n",
    "        line_arg='provider', line_vals=['naive', 'grouped', 'torch'], line_names=['Naive', 'Grouped', 'Torch'],\n",
    "        styles=[('blue', '-'), ('green', '-'), ('orange','-')],\n",
    "        ylabel='GB/s', plot_name='matmul-performance', args={}\n",
    "    ))\n",
    "def benchmark(square_matrix_size, provider):\n",
    "    sz = square_matrix_size\n",
    "    a = torch.rand((sz, sz), device='cuda', dtype=torch.float32)\n",
    "    b = torch.rand((sz, sz), device='cuda', dtype=torch.float32)\n",
    "    quantiles = [0.5, 0.2, 0.8]\n",
    "    if provider == 'naive':   ms, min_ms, max_ms = triton.testing.do_bench(lambda: naive_matmul(a, b, bs=64), quantiles=quantiles)\n",
    "    if provider == 'grouped': ms, min_ms, max_ms = triton.testing.do_bench(lambda: grouped_matmul(a, b, group_sz=8, bs=64), quantiles=quantiles)\n",
    "    if provider == 'torch':   ms, min_ms, max_ms = triton.testing.do_bench(lambda: torch.matmul(a,b), quantiles=quantiles)\n",
    "    gbps = lambda ms: 12 * sz / ms * 1e-6\n",
    "    return gbps(ms), gbps(max_ms), gbps(min_ms)\n",
    "\n",
    "benchmark.run(print_data=True, show_plots=True)"
   ]
  },
  {
   "cell_type": "markdown",
   "id": "be721a2b-69b0-482a-9080-abefc48819c7",
   "metadata": {},
   "source": [
    "This reduces the performance difference to pytorch for larger matrix sizes, but pytorch is still better."
   ]
  },
  {
   "cell_type": "code",
   "execution_count": null,
   "id": "12d8ea2f-e531-430f-ad76-56f3a157314e",
   "metadata": {},
   "outputs": [],
   "source": []
  },
  {
   "cell_type": "markdown",
   "id": "3dfda9b2-b203-45a7-85b1-91f08d4bfd7d",
   "metadata": {},
   "source": [
    "Tip: For profiling, we can use Nsight Compute to profile our kernels:\n",
    "`ncu --target-processes all your_python_file.py`"
   ]
  },
  {
   "cell_type": "code",
   "execution_count": null,
   "id": "61e1e4a5-b109-4fe3-bce2-e0e22e194ac8",
   "metadata": {},
   "outputs": [],
   "source": []
  },
  {
   "cell_type": "markdown",
   "id": "7f47b97a-d66f-491f-9c2b-7613e20c59cd",
   "metadata": {},
   "source": [
    "# AMD GPU"
   ]
  },
  {
   "cell_type": "markdown",
   "id": "48da811b-65a5-47b7-a390-c9af9ed3d7c6",
   "metadata": {},
   "source": [
    "## Terminology\n",
    "\n",
    "Threads -> Waves\n",
    "Warps -> Wavefronts\n",
    "\n",
    "For cuda it's always 32\n",
    "For rocm it can be 32 or 64\n",
    "ROCm currently does not allow 64 warp size devices to support 32 warp size."
   ]
  },
  {
   "cell_type": "markdown",
   "id": "eec735ca-c7d8-4b52-9b5c-998631c22b07",
   "metadata": {},
   "source": [
    "Finding out the Wavefront number (equivalent to the wrapsize on CUDA) using `rocminfo`"
   ]
  },
  {
   "cell_type": "markdown",
   "id": "6c866787-e12d-4bde-a915-113289d845b0",
   "metadata": {},
   "source": [
    "# Auto-Tuning"
   ]
  },
  {
   "cell_type": "markdown",
   "id": "fbd773e6-71f5-43c1-bb8b-bb41d1cb4b20",
   "metadata": {},
   "source": [
    "Adapted from https://triton-lang.org/main/getting-started/tutorials/03-matrix-multiplication.html"
   ]
  },
  {
   "cell_type": "markdown",
   "id": "f603e665-cb2c-4a6a-9eea-81fcfcb9952b",
   "metadata": {},
   "source": [
    "The choice of meta-parameters (e.g. block sizes) and compilation options (e.g. `num_warps`) impacts the kernel speed. Triton allows you to pass a list of possible choices, runs them all, and then compiles the kernel for the fastest choice. This is called `Auto-Tuning`.\n",
    "\n",
    "If the size of your problem changes (e.g. when matrix changes size), a new auto-tune will be done for the new problem size."
   ]
  },
  {
   "cell_type": "code",
   "execution_count": 25,
   "id": "f2275ed6-4ac5-4d73-be5a-8d3ec69cd806",
   "metadata": {},
   "outputs": [],
   "source": [
    "# def get_hip_autotune_config():\n",
    "#     return [\n",
    "#         triton.Config(\n",
    "#             {'BLOCK_SIZE_M': 128, 'BLOCK_SIZE_N': 256, 'BLOCK_SIZE_K': 16, 'GROUP_SIZE_M': 1, 'waves_per_eu': 2},\n",
    "#             num_warps=4, num_stages=0),\n",
    "#         triton.Config(\n",
    "#             {'BLOCK_SIZE_M': 256, 'BLOCK_SIZE_N': 256, 'BLOCK_SIZE_K': 16, 'GROUP_SIZE_M': 4, 'waves_per_eu': 2},\n",
    "#             num_warps=8, num_stages=0),\n",
    "#         triton.Config(\n",
    "#             {'BLOCK_SIZE_M': 128, 'BLOCK_SIZE_N': 128, 'BLOCK_SIZE_K': 32, 'GROUP_SIZE_M': 1, 'waves_per_eu': 2},\n",
    "#             num_warps=8, num_stages=0),\n",
    "#         triton.Config(\n",
    "#             {'BLOCK_SIZE_M': 64, 'BLOCK_SIZE_N': 128, 'BLOCK_SIZE_K': 32, 'GROUP_SIZE_M': 8, 'waves_per_eu': 3},\n",
    "#             num_warps=4, num_stages=0),\n",
    "#         triton.Config(\n",
    "#             {'BLOCK_SIZE_M': 64, 'BLOCK_SIZE_N': 64, 'BLOCK_SIZE_K': 32, 'GROUP_SIZE_M': 1, 'waves_per_eu': 8},\n",
    "#             num_warps=4, num_stages=0),\n",
    "#     ]"
   ]
  },
  {
   "cell_type": "code",
   "execution_count": 31,
   "id": "c25f75d3-05c1-4b3a-970a-399574286a4e",
   "metadata": {},
   "outputs": [
    {
     "ename": "TypeError",
     "evalue": "Config.__init__() got an unexpected keyword argument 'waves_per_eu'",
     "output_type": "error",
     "traceback": [
      "\u001b[0;31m---------------------------------------------------------------------------\u001b[0m",
      "\u001b[0;31mTypeError\u001b[0m                                 Traceback (most recent call last)",
      "Cell \u001b[0;32mIn[31], line 4\u001b[0m\n\u001b[1;32m      1\u001b[0m \u001b[38;5;129m@triton\u001b[39m\u001b[38;5;241m.\u001b[39mautotune(\n\u001b[1;32m      2\u001b[0m     \u001b[38;5;66;03m# Choices of configs to auto-tune over\u001b[39;00m\n\u001b[1;32m      3\u001b[0m     configs\u001b[38;5;241m=\u001b[39m[\n\u001b[0;32m----> 4\u001b[0m         \u001b[43mtriton\u001b[49m\u001b[38;5;241;43m.\u001b[39;49m\u001b[43mConfig\u001b[49m\u001b[43m(\u001b[49m\u001b[43m{\u001b[49m\u001b[38;5;124;43m'\u001b[39;49m\u001b[38;5;124;43mbm\u001b[39;49m\u001b[38;5;124;43m'\u001b[39;49m\u001b[43m:\u001b[49m\u001b[43m \u001b[49m\u001b[38;5;241;43m128\u001b[39;49m\u001b[43m,\u001b[49m\u001b[43m \u001b[49m\u001b[38;5;124;43m'\u001b[39;49m\u001b[38;5;124;43mbn\u001b[39;49m\u001b[38;5;124;43m'\u001b[39;49m\u001b[43m:\u001b[49m\u001b[43m \u001b[49m\u001b[38;5;241;43m256\u001b[39;49m\u001b[43m,\u001b[49m\u001b[43m \u001b[49m\u001b[38;5;124;43m'\u001b[39;49m\u001b[38;5;124;43mbk\u001b[39;49m\u001b[38;5;124;43m'\u001b[39;49m\u001b[43m:\u001b[49m\u001b[43m \u001b[49m\u001b[38;5;241;43m64\u001b[39;49m\u001b[43m,\u001b[49m\u001b[43m \u001b[49m\u001b[38;5;124;43m'\u001b[39;49m\u001b[38;5;124;43mgroup_sz\u001b[39;49m\u001b[38;5;124;43m'\u001b[39;49m\u001b[43m:\u001b[49m\u001b[43m \u001b[49m\u001b[38;5;241;43m8\u001b[39;49m\u001b[43m}\u001b[49m\u001b[43m,\u001b[49m\u001b[43m \u001b[49m\u001b[43mnum_stages\u001b[49m\u001b[38;5;241;43m=\u001b[39;49m\u001b[38;5;241;43m0\u001b[39;49m\u001b[43m,\u001b[49m\u001b[43m \u001b[49m\u001b[43mnum_warps\u001b[49m\u001b[38;5;241;43m=\u001b[39;49m\u001b[38;5;241;43m8\u001b[39;49m\u001b[43m,\u001b[49m\u001b[43m \u001b[49m\u001b[43mwaves_per_eu\u001b[49m\u001b[38;5;241;43m=\u001b[39;49m\u001b[38;5;241;43m2\u001b[39;49m\u001b[43m)\u001b[49m,\n\u001b[1;32m      5\u001b[0m         triton\u001b[38;5;241m.\u001b[39mConfig({\u001b[38;5;124m'\u001b[39m\u001b[38;5;124mbm\u001b[39m\u001b[38;5;124m'\u001b[39m: \u001b[38;5;241m128\u001b[39m, \u001b[38;5;124m'\u001b[39m\u001b[38;5;124mbn\u001b[39m\u001b[38;5;124m'\u001b[39m: \u001b[38;5;241m256\u001b[39m, \u001b[38;5;124m'\u001b[39m\u001b[38;5;124mbk\u001b[39m\u001b[38;5;124m'\u001b[39m: \u001b[38;5;241m64\u001b[39m, \u001b[38;5;124m'\u001b[39m\u001b[38;5;124mgroup_sz\u001b[39m\u001b[38;5;124m'\u001b[39m: \u001b[38;5;241m8\u001b[39m}, num_stages\u001b[38;5;241m=\u001b[39m\u001b[38;5;241m1\u001b[39m, num_warps\u001b[38;5;241m=\u001b[39m\u001b[38;5;241m8\u001b[39m),\n\u001b[1;32m      6\u001b[0m         triton\u001b[38;5;241m.\u001b[39mConfig({\u001b[38;5;124m'\u001b[39m\u001b[38;5;124mbm\u001b[39m\u001b[38;5;124m'\u001b[39m: \u001b[38;5;241m128\u001b[39m, \u001b[38;5;124m'\u001b[39m\u001b[38;5;124mbn\u001b[39m\u001b[38;5;124m'\u001b[39m: \u001b[38;5;241m256\u001b[39m, \u001b[38;5;124m'\u001b[39m\u001b[38;5;124mbk\u001b[39m\u001b[38;5;124m'\u001b[39m: \u001b[38;5;241m64\u001b[39m, \u001b[38;5;124m'\u001b[39m\u001b[38;5;124mgroup_sz\u001b[39m\u001b[38;5;124m'\u001b[39m: \u001b[38;5;241m8\u001b[39m}, num_stages\u001b[38;5;241m=\u001b[39m\u001b[38;5;241m3\u001b[39m, num_warps\u001b[38;5;241m=\u001b[39m\u001b[38;5;241m8\u001b[39m),\n\u001b[1;32m      7\u001b[0m         triton\u001b[38;5;241m.\u001b[39mConfig({\u001b[38;5;124m'\u001b[39m\u001b[38;5;124mbm\u001b[39m\u001b[38;5;124m'\u001b[39m: \u001b[38;5;241m64\u001b[39m, \u001b[38;5;124m'\u001b[39m\u001b[38;5;124mbn\u001b[39m\u001b[38;5;124m'\u001b[39m: \u001b[38;5;241m256\u001b[39m, \u001b[38;5;124m'\u001b[39m\u001b[38;5;124mbk\u001b[39m\u001b[38;5;124m'\u001b[39m: \u001b[38;5;241m32\u001b[39m, \u001b[38;5;124m'\u001b[39m\u001b[38;5;124mgroup_sz\u001b[39m\u001b[38;5;124m'\u001b[39m: \u001b[38;5;241m8\u001b[39m}, num_stages\u001b[38;5;241m=\u001b[39m\u001b[38;5;241m4\u001b[39m, num_warps\u001b[38;5;241m=\u001b[39m\u001b[38;5;241m4\u001b[39m),\n\u001b[1;32m      8\u001b[0m         triton\u001b[38;5;241m.\u001b[39mConfig({\u001b[38;5;124m'\u001b[39m\u001b[38;5;124mbm\u001b[39m\u001b[38;5;124m'\u001b[39m: \u001b[38;5;241m128\u001b[39m, \u001b[38;5;124m'\u001b[39m\u001b[38;5;124mbn\u001b[39m\u001b[38;5;124m'\u001b[39m: \u001b[38;5;241m128\u001b[39m, \u001b[38;5;124m'\u001b[39m\u001b[38;5;124mbk\u001b[39m\u001b[38;5;124m'\u001b[39m: \u001b[38;5;241m32\u001b[39m, \u001b[38;5;124m'\u001b[39m\u001b[38;5;124mgroup_sz\u001b[39m\u001b[38;5;124m'\u001b[39m: \u001b[38;5;241m8\u001b[39m}, num_stages\u001b[38;5;241m=\u001b[39m\u001b[38;5;241m4\u001b[39m, num_warps\u001b[38;5;241m=\u001b[39m\u001b[38;5;241m4\u001b[39m),\n\u001b[1;32m      9\u001b[0m         triton\u001b[38;5;241m.\u001b[39mConfig({\u001b[38;5;124m'\u001b[39m\u001b[38;5;124mbm\u001b[39m\u001b[38;5;124m'\u001b[39m: \u001b[38;5;241m128\u001b[39m, \u001b[38;5;124m'\u001b[39m\u001b[38;5;124mbn\u001b[39m\u001b[38;5;124m'\u001b[39m: \u001b[38;5;241m64\u001b[39m, \u001b[38;5;124m'\u001b[39m\u001b[38;5;124mbk\u001b[39m\u001b[38;5;124m'\u001b[39m: \u001b[38;5;241m32\u001b[39m, \u001b[38;5;124m'\u001b[39m\u001b[38;5;124mgroup_sz\u001b[39m\u001b[38;5;124m'\u001b[39m: \u001b[38;5;241m8\u001b[39m}, num_stages\u001b[38;5;241m=\u001b[39m\u001b[38;5;241m4\u001b[39m, num_warps\u001b[38;5;241m=\u001b[39m\u001b[38;5;241m4\u001b[39m),\n\u001b[1;32m     10\u001b[0m         triton\u001b[38;5;241m.\u001b[39mConfig({\u001b[38;5;124m'\u001b[39m\u001b[38;5;124mbm\u001b[39m\u001b[38;5;124m'\u001b[39m: \u001b[38;5;241m64\u001b[39m, \u001b[38;5;124m'\u001b[39m\u001b[38;5;124mbn\u001b[39m\u001b[38;5;124m'\u001b[39m: \u001b[38;5;241m128\u001b[39m, \u001b[38;5;124m'\u001b[39m\u001b[38;5;124mbk\u001b[39m\u001b[38;5;124m'\u001b[39m: \u001b[38;5;241m32\u001b[39m, \u001b[38;5;124m'\u001b[39m\u001b[38;5;124mgroup_sz\u001b[39m\u001b[38;5;124m'\u001b[39m: \u001b[38;5;241m8\u001b[39m}, num_stages\u001b[38;5;241m=\u001b[39m\u001b[38;5;241m4\u001b[39m, num_warps\u001b[38;5;241m=\u001b[39m\u001b[38;5;241m4\u001b[39m),\n\u001b[1;32m     11\u001b[0m         triton\u001b[38;5;241m.\u001b[39mConfig({\u001b[38;5;124m'\u001b[39m\u001b[38;5;124mbm\u001b[39m\u001b[38;5;124m'\u001b[39m: \u001b[38;5;241m128\u001b[39m, \u001b[38;5;124m'\u001b[39m\u001b[38;5;124mbn\u001b[39m\u001b[38;5;124m'\u001b[39m: \u001b[38;5;241m32\u001b[39m, \u001b[38;5;124m'\u001b[39m\u001b[38;5;124mbk\u001b[39m\u001b[38;5;124m'\u001b[39m: \u001b[38;5;241m32\u001b[39m, \u001b[38;5;124m'\u001b[39m\u001b[38;5;124mgroup_sz\u001b[39m\u001b[38;5;124m'\u001b[39m: \u001b[38;5;241m8\u001b[39m}, num_stages\u001b[38;5;241m=\u001b[39m\u001b[38;5;241m4\u001b[39m, num_warps\u001b[38;5;241m=\u001b[39m\u001b[38;5;241m4\u001b[39m),\n\u001b[1;32m     12\u001b[0m         triton\u001b[38;5;241m.\u001b[39mConfig({\u001b[38;5;124m'\u001b[39m\u001b[38;5;124mbm\u001b[39m\u001b[38;5;124m'\u001b[39m: \u001b[38;5;241m64\u001b[39m, \u001b[38;5;124m'\u001b[39m\u001b[38;5;124mbn\u001b[39m\u001b[38;5;124m'\u001b[39m: \u001b[38;5;241m32\u001b[39m, \u001b[38;5;124m'\u001b[39m\u001b[38;5;124mbk\u001b[39m\u001b[38;5;124m'\u001b[39m: \u001b[38;5;241m32\u001b[39m, \u001b[38;5;124m'\u001b[39m\u001b[38;5;124mgroup_sz\u001b[39m\u001b[38;5;124m'\u001b[39m: \u001b[38;5;241m8\u001b[39m}, num_stages\u001b[38;5;241m=\u001b[39m\u001b[38;5;241m5\u001b[39m, num_warps\u001b[38;5;241m=\u001b[39m\u001b[38;5;241m2\u001b[39m),\n\u001b[1;32m     13\u001b[0m         triton\u001b[38;5;241m.\u001b[39mConfig({\u001b[38;5;124m'\u001b[39m\u001b[38;5;124mbm\u001b[39m\u001b[38;5;124m'\u001b[39m: \u001b[38;5;241m32\u001b[39m, \u001b[38;5;124m'\u001b[39m\u001b[38;5;124mbn\u001b[39m\u001b[38;5;124m'\u001b[39m: \u001b[38;5;241m64\u001b[39m, \u001b[38;5;124m'\u001b[39m\u001b[38;5;124mbk\u001b[39m\u001b[38;5;124m'\u001b[39m: \u001b[38;5;241m32\u001b[39m, \u001b[38;5;124m'\u001b[39m\u001b[38;5;124mgroup_sz\u001b[39m\u001b[38;5;124m'\u001b[39m: \u001b[38;5;241m8\u001b[39m}, num_stages\u001b[38;5;241m=\u001b[39m\u001b[38;5;241m5\u001b[39m, num_warps\u001b[38;5;241m=\u001b[39m\u001b[38;5;241m2\u001b[39m),\n\u001b[1;32m     14\u001b[0m     ],\n\u001b[1;32m     15\u001b[0m     \u001b[38;5;66;03m# Definition of problem size. If it changes, a new auto-tune is run for the new problem size.\u001b[39;00m\n\u001b[1;32m     16\u001b[0m     key\u001b[38;5;241m=\u001b[39m[\u001b[38;5;124m'\u001b[39m\u001b[38;5;124mm\u001b[39m\u001b[38;5;124m'\u001b[39m, \u001b[38;5;124m'\u001b[39m\u001b[38;5;124mn\u001b[39m\u001b[38;5;124m'\u001b[39m, \u001b[38;5;124m'\u001b[39m\u001b[38;5;124mk\u001b[39m\u001b[38;5;124m'\u001b[39m],\n\u001b[1;32m     17\u001b[0m )\n\u001b[1;32m     18\u001b[0m \u001b[38;5;129m@triton\u001b[39m\u001b[38;5;241m.\u001b[39mjit\n\u001b[1;32m     19\u001b[0m \u001b[38;5;28;01mdef\u001b[39;00m \u001b[38;5;21mgrouped_autotuned_matmul_k\u001b[39m(\n\u001b[1;32m     20\u001b[0m     a_ptr, b_ptr, c_ptr,\n\u001b[1;32m     21\u001b[0m     m, n, k,\n\u001b[1;32m     22\u001b[0m     stride_am, stride_ak, \n\u001b[1;32m     23\u001b[0m     stride_bk, stride_bn,\n\u001b[1;32m     24\u001b[0m     stride_cm, stride_cn,\n\u001b[1;32m     25\u001b[0m     bm: tl\u001b[38;5;241m.\u001b[39mconstexpr, bn: tl\u001b[38;5;241m.\u001b[39mconstexpr, bk: tl\u001b[38;5;241m.\u001b[39mconstexpr, group_sz: tl\u001b[38;5;241m.\u001b[39mconstexpr\n\u001b[1;32m     26\u001b[0m ):\n\u001b[1;32m     27\u001b[0m     pid_m \u001b[38;5;241m=\u001b[39m tl\u001b[38;5;241m.\u001b[39mprogram_id(\u001b[38;5;241m0\u001b[39m)\n\u001b[1;32m     28\u001b[0m     pid_n \u001b[38;5;241m=\u001b[39m tl\u001b[38;5;241m.\u001b[39mprogram_id(\u001b[38;5;241m1\u001b[39m)\n",
      "\u001b[0;31mTypeError\u001b[0m: Config.__init__() got an unexpected keyword argument 'waves_per_eu'"
     ]
    }
   ],
   "source": [
    "@triton.autotune(\n",
    "    # Choices of configs to auto-tune over\n",
    "    configs=[\n",
    "        triton.Config({'bm': 128, 'bn': 256, 'bk': 64, 'group_sz': 8, 'waves_per_eu': 2}, num_stages=0, num_warps=8),\n",
    "        triton.Config({'bm': 128, 'bn': 256, 'bk': 64, 'group_sz': 8, 'waves_per_eu': 2}, num_stages=1, num_warps=8),\n",
    "        triton.Config({'bm': 128, 'bn': 256, 'bk': 64, 'group_sz': 8, 'waves_per_eu': 2}, num_stages=3, num_warps=8),\n",
    "        triton.Config({'bm': 64, 'bn': 256, 'bk': 32, 'group_sz': 8, 'waves_per_eu': 2}, num_stages=4, num_warps=4),\n",
    "        triton.Config({'bm': 128, 'bn': 128, 'bk': 32, 'group_sz': 8, 'waves_per_eu': 2}, num_stages=4, num_warps=4),\n",
    "        triton.Config({'bm': 128, 'bn': 64, 'bk': 32, 'group_sz': 8, 'waves_per_eu': 2}, num_stages=4, num_warps=4),\n",
    "        triton.Config({'bm': 64, 'bn': 128, 'bk': 32, 'group_sz': 8, 'waves_per_eu': 2}, num_stages=4, num_warps=4),\n",
    "        triton.Config({'bm': 128, 'bn': 32, 'bk': 32, 'group_sz': 8, 'waves_per_eu': 2}, num_stages=4, num_warps=4),\n",
    "        triton.Config({'bm': 64, 'bn': 32, 'bk': 32, 'group_sz': 8, 'waves_per_eu': 2}, num_stages=5, num_warps=2),\n",
    "        triton.Config({'bm': 32, 'bn': 64, 'bk': 32, 'group_sz': 8, 'waves_per_eu': 2}, num_stages=5, num_warps=2),\n",
    "    ],\n",
    "    # Definition of problem size. If it changes, a new auto-tune is run for the new problem size.\n",
    "    key=['m', 'n', 'k'],\n",
    ")\n",
    "@triton.jit\n",
    "def grouped_autotuned_matmul_k(\n",
    "    a_ptr, b_ptr, c_ptr,\n",
    "    m, n, k,\n",
    "    stride_am, stride_ak, \n",
    "    stride_bk, stride_bn,\n",
    "    stride_cm, stride_cn,\n",
    "    bm: tl.constexpr, bn: tl.constexpr, bk: tl.constexpr, group_sz: tl.constexpr\n",
    "):\n",
    "    pid_m = tl.program_id(0)\n",
    "    pid_n = tl.program_id(1)\n",
    "    num_pid_m = tl.num_programs(0)\n",
    "    num_pid_n = tl.num_programs(1)\n",
    "    # determine location of block in grouped ordering\n",
    "    pid_m, pid_n = tl.swizzle2d(pid_m, pid_n, num_pid_m, num_pid_n, group_sz)  # Weirdness: tl.swizzle2d doesn't work when simulating on CPU\n",
    "    # chunks along m/n/k dimensions\n",
    "    rm = get_1d_offest(size=bm, n_prev_chunks=pid_m)\n",
    "    rn = get_1d_offest(size=bn, n_prev_chunks=pid_n)\n",
    "    rk = get_1d_offest(size=bk, n_prev_chunks=0)\n",
    "    # relevant offsets of a, b\n",
    "    offs_a = a_ptr + get_2d_offset(rm, rk, stride_am, stride_ak)\n",
    "    offs_b = b_ptr + get_2d_offset(rk, rn, stride_bk, stride_bn)\n",
    "    # initialize and iteratively update accumulator\n",
    "    acc = tl.zeros((bm, bn), dtype=tl.float32)\n",
    "    for _ in range(0, k, bk):\n",
    "        # todo umer: don't we need mask when loading a & b?\n",
    "        a = tl.load(offs_a)\n",
    "        b = tl.load(offs_b)\n",
    "        acc += tl.dot(a, b, allow_tf32=False) # block level matrix multiplication ; Weirdness: allow_tf32 must be set to False for older GPUs, otherwise won't compile\n",
    "        # increase offets, so next iteration loads next chunks\n",
    "        offs_a += bk * stride_ak\n",
    "        offs_b += bk * stride_bk\n",
    "    c = c_ptr + get_2d_offset(rm, rn, stride_cm, stride_cn)\n",
    "    mask = get_2d_mask(rm, rn, m, n)\n",
    "    tl.store(c, acc, mask=mask)"
   ]
  },
  {
   "cell_type": "code",
   "execution_count": 27,
   "id": "f18195a7-2258-4b5a-9d1d-0361aa95953d",
   "metadata": {},
   "outputs": [],
   "source": [
    "def grouped_autotuned_matmul(a, b):\n",
    "    matmul_k_fn = grouped_autotuned_matmul_k\n",
    "    \n",
    "    assert a.shape[1] == b.shape[0], \"matrix dims not compatible for matmul\"\n",
    "    check_tensors_gpu_ready(a, b)\n",
    "    (m, k), (_, n) = a.shape, b.shape\n",
    "    c = torch.empty((m, n), device=a.device, dtype=torch.float16)\n",
    "    grid = lambda meta: (triton.cdiv(m, meta['bm']),  triton.cdiv(n, meta['bn']))\n",
    "    matmul_k_fn[grid](\n",
    "        a, b, c,\n",
    "        m, n, k,\n",
    "        a.stride(0), a.stride(1),\n",
    "        b.stride(0), b.stride(1),\n",
    "        c.stride(0), c.stride(1),\n",
    "        # bm=bs, bn=bs, bk=bs, <- will be autotuned\n",
    "        # **group_sz <- will be autotuned\n",
    "    )\n",
    "    return c"
   ]
  },
  {
   "cell_type": "code",
   "execution_count": null,
   "id": "a0c5d286-b66c-46ea-a0ec-07f98cd88108",
   "metadata": {},
   "outputs": [],
   "source": []
  },
  {
   "cell_type": "code",
   "execution_count": 28,
   "id": "70efd987-4246-4aeb-83dc-6fbc367f7f6b",
   "metadata": {},
   "outputs": [],
   "source": [
    "a,b = torch.ones(3,4, device='cuda'), torch.ones(4,5, device='cuda')"
   ]
  },
  {
   "cell_type": "code",
   "execution_count": 29,
   "id": "b1a43e71-56d7-4ebd-95e2-eb4d13b79969",
   "metadata": {},
   "outputs": [
    {
     "data": {
      "text/plain": [
       "tensor([[4., 4., 4., 4., 4.],\n",
       "        [4., 4., 4., 4., 4.],\n",
       "        [4., 4., 4., 4., 4.]], device='cuda:0')"
      ]
     },
     "execution_count": 29,
     "metadata": {},
     "output_type": "execute_result"
    }
   ],
   "source": [
    "a@b"
   ]
  },
  {
   "cell_type": "markdown",
   "id": "144df98b-592d-409a-8da6-58515e16868e",
   "metadata": {},
   "source": [
    "_Note: sometimes the following line returns wrong results, and I can't reliably reproduce it. If you can, please tell me via Twitter (@UmerHAdil) ! 🙏🏽_"
   ]
  },
  {
   "cell_type": "code",
   "execution_count": 30,
   "id": "c0c493bb-d747-4b61-ba2a-e2772c66c24c",
   "metadata": {},
   "outputs": [
    {
     "ename": "TypeError",
     "evalue": "grouped_autotuned_matmul_k() got an unexpected keyword argument 'waves_per_eu'",
     "output_type": "error",
     "traceback": [
      "\u001b[0;31m---------------------------------------------------------------------------\u001b[0m",
      "\u001b[0;31mTypeError\u001b[0m                                 Traceback (most recent call last)",
      "Cell \u001b[0;32mIn[30], line 1\u001b[0m\n\u001b[0;32m----> 1\u001b[0m \u001b[43mgrouped_autotuned_matmul\u001b[49m\u001b[43m(\u001b[49m\u001b[43ma\u001b[49m\u001b[43m,\u001b[49m\u001b[43mb\u001b[49m\u001b[43m)\u001b[49m\n",
      "Cell \u001b[0;32mIn[27], line 9\u001b[0m, in \u001b[0;36mgrouped_autotuned_matmul\u001b[0;34m(a, b)\u001b[0m\n\u001b[1;32m      7\u001b[0m c \u001b[38;5;241m=\u001b[39m torch\u001b[38;5;241m.\u001b[39mempty((m, n), device\u001b[38;5;241m=\u001b[39ma\u001b[38;5;241m.\u001b[39mdevice, dtype\u001b[38;5;241m=\u001b[39mtorch\u001b[38;5;241m.\u001b[39mfloat16)\n\u001b[1;32m      8\u001b[0m grid \u001b[38;5;241m=\u001b[39m \u001b[38;5;28;01mlambda\u001b[39;00m meta: (triton\u001b[38;5;241m.\u001b[39mcdiv(m, meta[\u001b[38;5;124m'\u001b[39m\u001b[38;5;124mbm\u001b[39m\u001b[38;5;124m'\u001b[39m]),  triton\u001b[38;5;241m.\u001b[39mcdiv(n, meta[\u001b[38;5;124m'\u001b[39m\u001b[38;5;124mbn\u001b[39m\u001b[38;5;124m'\u001b[39m]))\n\u001b[0;32m----> 9\u001b[0m \u001b[43mmatmul_k_fn\u001b[49m\u001b[43m[\u001b[49m\u001b[43mgrid\u001b[49m\u001b[43m]\u001b[49m\u001b[43m(\u001b[49m\n\u001b[1;32m     10\u001b[0m \u001b[43m    \u001b[49m\u001b[43ma\u001b[49m\u001b[43m,\u001b[49m\u001b[43m \u001b[49m\u001b[43mb\u001b[49m\u001b[43m,\u001b[49m\u001b[43m \u001b[49m\u001b[43mc\u001b[49m\u001b[43m,\u001b[49m\n\u001b[1;32m     11\u001b[0m \u001b[43m    \u001b[49m\u001b[43mm\u001b[49m\u001b[43m,\u001b[49m\u001b[43m \u001b[49m\u001b[43mn\u001b[49m\u001b[43m,\u001b[49m\u001b[43m \u001b[49m\u001b[43mk\u001b[49m\u001b[43m,\u001b[49m\n\u001b[1;32m     12\u001b[0m \u001b[43m    \u001b[49m\u001b[43ma\u001b[49m\u001b[38;5;241;43m.\u001b[39;49m\u001b[43mstride\u001b[49m\u001b[43m(\u001b[49m\u001b[38;5;241;43m0\u001b[39;49m\u001b[43m)\u001b[49m\u001b[43m,\u001b[49m\u001b[43m \u001b[49m\u001b[43ma\u001b[49m\u001b[38;5;241;43m.\u001b[39;49m\u001b[43mstride\u001b[49m\u001b[43m(\u001b[49m\u001b[38;5;241;43m1\u001b[39;49m\u001b[43m)\u001b[49m\u001b[43m,\u001b[49m\n\u001b[1;32m     13\u001b[0m \u001b[43m    \u001b[49m\u001b[43mb\u001b[49m\u001b[38;5;241;43m.\u001b[39;49m\u001b[43mstride\u001b[49m\u001b[43m(\u001b[49m\u001b[38;5;241;43m0\u001b[39;49m\u001b[43m)\u001b[49m\u001b[43m,\u001b[49m\u001b[43m \u001b[49m\u001b[43mb\u001b[49m\u001b[38;5;241;43m.\u001b[39;49m\u001b[43mstride\u001b[49m\u001b[43m(\u001b[49m\u001b[38;5;241;43m1\u001b[39;49m\u001b[43m)\u001b[49m\u001b[43m,\u001b[49m\n\u001b[1;32m     14\u001b[0m \u001b[43m    \u001b[49m\u001b[43mc\u001b[49m\u001b[38;5;241;43m.\u001b[39;49m\u001b[43mstride\u001b[49m\u001b[43m(\u001b[49m\u001b[38;5;241;43m0\u001b[39;49m\u001b[43m)\u001b[49m\u001b[43m,\u001b[49m\u001b[43m \u001b[49m\u001b[43mc\u001b[49m\u001b[38;5;241;43m.\u001b[39;49m\u001b[43mstride\u001b[49m\u001b[43m(\u001b[49m\u001b[38;5;241;43m1\u001b[39;49m\u001b[43m)\u001b[49m\u001b[43m,\u001b[49m\n\u001b[1;32m     15\u001b[0m \u001b[43m    \u001b[49m\u001b[38;5;66;43;03m# bm=bs, bn=bs, bk=bs, <- will be autotuned\u001b[39;49;00m\n\u001b[1;32m     16\u001b[0m \u001b[43m    \u001b[49m\u001b[38;5;66;43;03m# **group_sz <- will be autotuned\u001b[39;49;00m\n\u001b[1;32m     17\u001b[0m \u001b[43m\u001b[49m\u001b[43m)\u001b[49m\n\u001b[1;32m     18\u001b[0m \u001b[38;5;28;01mreturn\u001b[39;00m c\n",
      "File \u001b[0;32m/opt/conda/envs/py_3.10/lib/python3.10/site-packages/triton/runtime/autotuner.py:97\u001b[0m, in \u001b[0;36mAutotuner.run\u001b[0;34m(self, *args, **kwargs)\u001b[0m\n\u001b[1;32m     95\u001b[0m pruned_configs \u001b[38;5;241m=\u001b[39m \u001b[38;5;28mself\u001b[39m\u001b[38;5;241m.\u001b[39mprune_configs(kwargs)\n\u001b[1;32m     96\u001b[0m bench_start \u001b[38;5;241m=\u001b[39m time\u001b[38;5;241m.\u001b[39mtime()\n\u001b[0;32m---> 97\u001b[0m timings \u001b[38;5;241m=\u001b[39m {config: \u001b[38;5;28mself\u001b[39m\u001b[38;5;241m.\u001b[39m_bench(\u001b[38;5;241m*\u001b[39margs, config\u001b[38;5;241m=\u001b[39mconfig, \u001b[38;5;241m*\u001b[39m\u001b[38;5;241m*\u001b[39mkwargs)\n\u001b[1;32m     98\u001b[0m            \u001b[38;5;28;01mfor\u001b[39;00m config \u001b[38;5;129;01min\u001b[39;00m pruned_configs}\n\u001b[1;32m     99\u001b[0m bench_end \u001b[38;5;241m=\u001b[39m time\u001b[38;5;241m.\u001b[39mtime()\n\u001b[1;32m    100\u001b[0m \u001b[38;5;28mself\u001b[39m\u001b[38;5;241m.\u001b[39mbench_time \u001b[38;5;241m=\u001b[39m bench_end \u001b[38;5;241m-\u001b[39m bench_start\n",
      "File \u001b[0;32m/opt/conda/envs/py_3.10/lib/python3.10/site-packages/triton/runtime/autotuner.py:97\u001b[0m, in \u001b[0;36m<dictcomp>\u001b[0;34m(.0)\u001b[0m\n\u001b[1;32m     95\u001b[0m pruned_configs \u001b[38;5;241m=\u001b[39m \u001b[38;5;28mself\u001b[39m\u001b[38;5;241m.\u001b[39mprune_configs(kwargs)\n\u001b[1;32m     96\u001b[0m bench_start \u001b[38;5;241m=\u001b[39m time\u001b[38;5;241m.\u001b[39mtime()\n\u001b[0;32m---> 97\u001b[0m timings \u001b[38;5;241m=\u001b[39m {config: \u001b[38;5;28;43mself\u001b[39;49m\u001b[38;5;241;43m.\u001b[39;49m\u001b[43m_bench\u001b[49m\u001b[43m(\u001b[49m\u001b[38;5;241;43m*\u001b[39;49m\u001b[43margs\u001b[49m\u001b[43m,\u001b[49m\u001b[43m \u001b[49m\u001b[43mconfig\u001b[49m\u001b[38;5;241;43m=\u001b[39;49m\u001b[43mconfig\u001b[49m\u001b[43m,\u001b[49m\u001b[43m \u001b[49m\u001b[38;5;241;43m*\u001b[39;49m\u001b[38;5;241;43m*\u001b[39;49m\u001b[43mkwargs\u001b[49m\u001b[43m)\u001b[49m\n\u001b[1;32m     98\u001b[0m            \u001b[38;5;28;01mfor\u001b[39;00m config \u001b[38;5;129;01min\u001b[39;00m pruned_configs}\n\u001b[1;32m     99\u001b[0m bench_end \u001b[38;5;241m=\u001b[39m time\u001b[38;5;241m.\u001b[39mtime()\n\u001b[1;32m    100\u001b[0m \u001b[38;5;28mself\u001b[39m\u001b[38;5;241m.\u001b[39mbench_time \u001b[38;5;241m=\u001b[39m bench_end \u001b[38;5;241m-\u001b[39m bench_start\n",
      "File \u001b[0;32m/opt/conda/envs/py_3.10/lib/python3.10/site-packages/triton/runtime/autotuner.py:80\u001b[0m, in \u001b[0;36mAutotuner._bench\u001b[0;34m(self, config, *args, **meta)\u001b[0m\n\u001b[1;32m     78\u001b[0m     \u001b[38;5;28mself\u001b[39m\u001b[38;5;241m.\u001b[39mfn\u001b[38;5;241m.\u001b[39mrun(\u001b[38;5;241m*\u001b[39margs, num_warps\u001b[38;5;241m=\u001b[39mconfig\u001b[38;5;241m.\u001b[39mnum_warps, num_stages\u001b[38;5;241m=\u001b[39mconfig\u001b[38;5;241m.\u001b[39mnum_stages, \u001b[38;5;241m*\u001b[39m\u001b[38;5;241m*\u001b[39mcurrent)\n\u001b[1;32m     79\u001b[0m \u001b[38;5;28;01mtry\u001b[39;00m:\n\u001b[0;32m---> 80\u001b[0m     \u001b[38;5;28;01mreturn\u001b[39;00m \u001b[43mdo_bench\u001b[49m\u001b[43m(\u001b[49m\u001b[43mkernel_call\u001b[49m\u001b[43m,\u001b[49m\u001b[43m \u001b[49m\u001b[43mquantiles\u001b[49m\u001b[38;5;241;43m=\u001b[39;49m\u001b[43m(\u001b[49m\u001b[38;5;241;43m0.5\u001b[39;49m\u001b[43m,\u001b[49m\u001b[43m \u001b[49m\u001b[38;5;241;43m0.2\u001b[39;49m\u001b[43m,\u001b[49m\u001b[43m \u001b[49m\u001b[38;5;241;43m0.8\u001b[39;49m\u001b[43m)\u001b[49m\u001b[43m)\u001b[49m\n\u001b[1;32m     81\u001b[0m \u001b[38;5;28;01mexcept\u001b[39;00m OutOfResources:\n\u001b[1;32m     82\u001b[0m     \u001b[38;5;28;01mreturn\u001b[39;00m [\u001b[38;5;28mfloat\u001b[39m(\u001b[38;5;124m'\u001b[39m\u001b[38;5;124minf\u001b[39m\u001b[38;5;124m'\u001b[39m), \u001b[38;5;28mfloat\u001b[39m(\u001b[38;5;124m'\u001b[39m\u001b[38;5;124minf\u001b[39m\u001b[38;5;124m'\u001b[39m), \u001b[38;5;28mfloat\u001b[39m(\u001b[38;5;124m'\u001b[39m\u001b[38;5;124minf\u001b[39m\u001b[38;5;124m'\u001b[39m)]\n",
      "File \u001b[0;32m/opt/conda/envs/py_3.10/lib/python3.10/site-packages/triton/testing.py:43\u001b[0m, in \u001b[0;36mdo_bench\u001b[0;34m(fn, warmup, rep, grad_to_none, quantiles, fast_flush, return_mode)\u001b[0m\n\u001b[1;32m     24\u001b[0m \u001b[38;5;28;01mimport\u001b[39;00m \u001b[38;5;21;01mtorch\u001b[39;00m\n\u001b[1;32m     25\u001b[0m \u001b[38;5;250m\u001b[39m\u001b[38;5;124;03m\"\"\"\u001b[39;00m\n\u001b[1;32m     26\u001b[0m \u001b[38;5;124;03mBenchmark the runtime of the provided function. By default, return the median runtime of :code:`fn` along with\u001b[39;00m\n\u001b[1;32m     27\u001b[0m \u001b[38;5;124;03mthe 20-th and 80-th performance percentile.\u001b[39;00m\n\u001b[0;32m   (...)\u001b[0m\n\u001b[1;32m     40\u001b[0m \u001b[38;5;124;03m:type fast_flush: bool\u001b[39;00m\n\u001b[1;32m     41\u001b[0m \u001b[38;5;124;03m\"\"\"\u001b[39;00m\n\u001b[0;32m---> 43\u001b[0m \u001b[43mfn\u001b[49m\u001b[43m(\u001b[49m\u001b[43m)\u001b[49m\n\u001b[1;32m     44\u001b[0m torch\u001b[38;5;241m.\u001b[39mcuda\u001b[38;5;241m.\u001b[39msynchronize()\n\u001b[1;32m     46\u001b[0m \u001b[38;5;66;03m# We maintain a buffer of 256 MB that we clear\u001b[39;00m\n\u001b[1;32m     47\u001b[0m \u001b[38;5;66;03m# before each kernel call to make sure that the L2\u001b[39;00m\n\u001b[1;32m     48\u001b[0m \u001b[38;5;66;03m# doesn't contain any input data before the run\u001b[39;00m\n",
      "File \u001b[0;32m/opt/conda/envs/py_3.10/lib/python3.10/site-packages/triton/runtime/autotuner.py:78\u001b[0m, in \u001b[0;36mAutotuner._bench.<locals>.kernel_call\u001b[0;34m()\u001b[0m\n\u001b[1;32m     76\u001b[0m     config\u001b[38;5;241m.\u001b[39mpre_hook(\u001b[38;5;28mself\u001b[39m\u001b[38;5;241m.\u001b[39mnargs)\n\u001b[1;32m     77\u001b[0m \u001b[38;5;28mself\u001b[39m\u001b[38;5;241m.\u001b[39mhook(args)\n\u001b[0;32m---> 78\u001b[0m \u001b[38;5;28;43mself\u001b[39;49m\u001b[38;5;241;43m.\u001b[39;49m\u001b[43mfn\u001b[49m\u001b[38;5;241;43m.\u001b[39;49m\u001b[43mrun\u001b[49m\u001b[43m(\u001b[49m\u001b[38;5;241;43m*\u001b[39;49m\u001b[43margs\u001b[49m\u001b[43m,\u001b[49m\u001b[43m \u001b[49m\u001b[43mnum_warps\u001b[49m\u001b[38;5;241;43m=\u001b[39;49m\u001b[43mconfig\u001b[49m\u001b[38;5;241;43m.\u001b[39;49m\u001b[43mnum_warps\u001b[49m\u001b[43m,\u001b[49m\u001b[43m \u001b[49m\u001b[43mnum_stages\u001b[49m\u001b[38;5;241;43m=\u001b[39;49m\u001b[43mconfig\u001b[49m\u001b[38;5;241;43m.\u001b[39;49m\u001b[43mnum_stages\u001b[49m\u001b[43m,\u001b[49m\u001b[43m \u001b[49m\u001b[38;5;241;43m*\u001b[39;49m\u001b[38;5;241;43m*\u001b[39;49m\u001b[43mcurrent\u001b[49m\u001b[43m)\u001b[49m\n",
      "\u001b[0;31mTypeError\u001b[0m: grouped_autotuned_matmul_k() got an unexpected keyword argument 'waves_per_eu'"
     ]
    }
   ],
   "source": [
    "grouped_autotuned_matmul(a,b)"
   ]
  },
  {
   "cell_type": "code",
   "execution_count": null,
   "id": "024b8603-3791-4e01-890d-883b39813a97",
   "metadata": {},
   "outputs": [],
   "source": []
  },
  {
   "cell_type": "markdown",
   "id": "460c4fe9-003e-4d4f-95ee-5b9af56d2ccf",
   "metadata": {},
   "source": [
    "For tips, tricks and heuristics which configs to try for auto-tuning, see [Mark Saroufim's talk \"CUDA Performance Checklist\"](https://www.youtube.com/watch?v=SGhfUhlowB4). Much of it should apply to Triton as well."
   ]
  },
  {
   "cell_type": "code",
   "execution_count": null,
   "id": "fde7978d-8409-4942-8551-f5d31e518d51",
   "metadata": {},
   "outputs": [],
   "source": []
  },
  {
   "cell_type": "markdown",
   "id": "3d662cab-1dfc-4282-a1bd-8fe3e286fd6d",
   "metadata": {},
   "source": [
    "Let's run the benchmark once again. This will take a lot of time, as we auto-tune for each benchmarking paramater choice (i.e., 12-5=7 times for us)."
   ]
  },
  {
   "cell_type": "code",
   "execution_count": null,
   "id": "b2048baf-2516-43e1-b65e-622dd77e53f5",
   "metadata": {},
   "outputs": [],
   "source": [
    "@triton.testing.perf_report(\n",
    "    triton.testing.Benchmark(\n",
    "        x_names=['square_matrix_size'], x_vals=[2**i for i in range(5, 12, 1)], x_log=True,\n",
    "        line_arg='provider', line_vals=['naive', 'grouped', 'grouped-autotuned', 'torch'], line_names=['Naive', 'Grouped', 'Grouped & Auto-Tuned','Torch'],\n",
    "        styles=[('blue', '-'), ('green', '-'), ('green', '--'), ('orange','-')],\n",
    "        ylabel='GB/s', plot_name='matmul-performance', args={}\n",
    "    ))\n",
    "def benchmark(square_matrix_size, provider):\n",
    "    sz = square_matrix_size\n",
    "    a = torch.rand((sz, sz), device='cuda', dtype=torch.float32)\n",
    "    b = torch.rand((sz, sz), device='cuda', dtype=torch.float32)\n",
    "    quantiles = [0.5, 0.2, 0.8]\n",
    "    if provider == 'naive':   ms, min_ms, max_ms = triton.testing.do_bench(lambda: naive_matmul(a, b, bs=64), quantiles=quantiles)\n",
    "    if provider == 'grouped': ms, min_ms, max_ms = triton.testing.do_bench(lambda: grouped_matmul(a, b, group_sz=8, bs=64), quantiles=quantiles)\n",
    "    if provider == 'grouped-autotuned': ms, min_ms, max_ms = triton.testing.do_bench(lambda: grouped_autotuned_matmul(a, b), quantiles=quantiles)\n",
    "    if provider == 'torch':   ms, min_ms, max_ms = triton.testing.do_bench(lambda: torch.matmul(a,b), quantiles=quantiles)\n",
    "    gbps = lambda ms: 12 * sz / ms * 1e-6\n",
    "    return gbps(ms), gbps(max_ms), gbps(min_ms)\n",
    "\n",
    "benchmark.run(print_data=True, show_plots=True)"
   ]
  },
  {
   "cell_type": "code",
   "execution_count": null,
   "id": "4954f5d2-7145-4109-aa9c-10208b3914e7",
   "metadata": {},
   "outputs": [],
   "source": []
  },
  {
   "cell_type": "code",
   "execution_count": null,
   "id": "152c469b-fd36-48bf-94a1-828e2b361736",
   "metadata": {},
   "outputs": [],
   "source": []
  },
  {
   "cell_type": "code",
   "execution_count": null,
   "id": "3ec8b38c-2dae-4c9c-8ae3-93ad3eb3dc71",
   "metadata": {},
   "outputs": [],
   "source": []
  },
  {
   "cell_type": "markdown",
   "id": "3e6cfa80-a46f-411a-8bf3-93475ac6147c",
   "metadata": {},
   "source": [
    "___"
   ]
  },
  {
   "cell_type": "markdown",
   "id": "e70eda94-213f-484d-b1a3-21a566b95a27",
   "metadata": {},
   "source": [
    "<h1>That's it! Congrats on making it through the tutorial - good work! 🥳</h1>\n",
    "\n",
    "I highly encourage you to write a few triton kernels yourself. You can e.g. try these triton puzzles: https://github.com/srush/Triton-Puzzles by [Sasha Rush](https://twitter.com/srush_nlp), Tejas Ramesh and [Keren Zhou](https://twitter.com/ZhouKeren).\n",
    "\n",
    "Here is other intermediate and advanced material:\n",
    "- The official documentation: https://triton-lang.org/\n",
    "- The LightLLM repo has a ton of real-world triton kernels: https://github.com/ModelTC/lightllm/tree/main/lightllm/common/basemodel/triton_kernel\n",
    "- So does the Unsloth repo: https://github.com/unslothai/unsloth/tree/main/unsloth/kernels"
   ]
  },
  {
   "cell_type": "markdown",
   "id": "07323512-dab4-461e-b765-78ba2f50ca40",
   "metadata": {},
   "source": [
    "If you're generally interested in GPU programming and performance, the [cuda mode Discord](https://discord.gg/cudamode) may be interesting to you. This tutorial was written as part of their amazing [lecture series](https://www.youtube.com/@CUDAMODE)."
   ]
  },
  {
   "cell_type": "code",
   "execution_count": null,
   "id": "7bb03105-bfef-4372-8cda-cf7577677804",
   "metadata": {},
   "outputs": [],
   "source": []
  },
  {
   "cell_type": "markdown",
   "id": "9911b3f5-1f63-4442-a99c-d5513d9a43f9",
   "metadata": {},
   "source": [
    "___"
   ]
  },
  {
   "cell_type": "markdown",
   "id": "f8b7f1a8-1525-4ad5-80be-0523d7cdde47",
   "metadata": {},
   "source": [
    "**About the author:**"
   ]
  },
  {
   "cell_type": "markdown",
   "id": "b4fb0eb5-7276-4ff9-adec-1e7b9f80357e",
   "metadata": {},
   "source": [
    "Hey 👋🏽 I'm Umer from Germany. Thanks for reading this tutorial. I hope you got learned a lot from it. If you have any questions, feel free to shoot me a message on Twitter ([@UmerHAdil](https://x.com/UmerHAdil)).\n",
    "\n",
    "As I currently do Open-Source AI work as an independent ML engineer, I have set up a ko-fi page for tips & donations: https://ko-fi.com/umerha.\n",
    "Apart from this guide, I've contributed to HuggingFace diffusers (e.g. [shoutouts by HF](https://x.com/RisingSayak/status/1773739194474463629)), LangChain [shoutouts by the team](https://twitter.com/search?lang=de&q=(from%3ALangChainAI)%20(%40UmerHAdil)%20lang%3Aen&src=typed_query)), and gpt-engineer (e.g. [this](https://x.com/UmerHAdil/status/1715447656527339668))."
   ]
  },
  {
   "cell_type": "markdown",
   "id": "9fad15fe-c8d5-4cbe-ac7b-022af9ebdbb0",
   "metadata": {},
   "source": [
    "If you're a company in need of Triton and/or CUDA consulting, also shoot me a message on Twitter ([@UmerHAdil](https://x.com/UmerHAdil))."
   ]
  },
  {
   "cell_type": "code",
   "execution_count": null,
   "id": "27847869-dd06-4a74-9b0e-7670c32d5f33",
   "metadata": {},
   "outputs": [],
   "source": []
  }
 ],
 "metadata": {
  "kernelspec": {
   "display_name": "Python 3 (ipykernel)",
   "language": "python",
   "name": "python3"
  },
  "language_info": {
   "codemirror_mode": {
    "name": "ipython",
    "version": 3
   },
   "file_extension": ".py",
   "mimetype": "text/x-python",
   "name": "python",
   "nbconvert_exporter": "python",
   "pygments_lexer": "ipython3",
   "version": "3.10.13"
  }
 },
 "nbformat": 4,
 "nbformat_minor": 5
}
